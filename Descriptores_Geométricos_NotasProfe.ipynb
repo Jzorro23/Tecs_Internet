{
  "cells": [
    {
      "cell_type": "markdown",
      "metadata": {
        "id": "view-in-github",
        "colab_type": "text"
      },
      "source": [
        "<a href=\"https://colab.research.google.com/github/Jzorro23/Tecs_Internet/blob/main/Descriptores_Geom%C3%A9tricos_NotasProfe.ipynb\" target=\"_parent\"><img src=\"https://colab.research.google.com/assets/colab-badge.svg\" alt=\"Open In Colab\"/></a>"
      ]
    },
    {
      "cell_type": "markdown",
      "metadata": {
        "id": "Xn9w_iWphzXd"
      },
      "source": []
    },
    {
      "cell_type": "code",
      "execution_count": 14,
      "metadata": {
        "colab": {
          "base_uri": "https://localhost:8080/"
        },
        "id": "ozl9wyfHyaN9",
        "outputId": "f0bd4ec6-fa57-41b7-ad7c-22b6d4166fda"
      },
      "outputs": [
        {
          "output_type": "stream",
          "name": "stdout",
          "text": [
            "--2025-10-29 00:29:18--  https://www.dropbox.com/s/sn6299q48lywx0x/LetrasABXYZ.zip\n",
            "Resolving www.dropbox.com (www.dropbox.com)... 162.125.2.18, 2620:100:6017:18::a27d:212\n",
            "Connecting to www.dropbox.com (www.dropbox.com)|162.125.2.18|:443... connected.\n",
            "HTTP request sent, awaiting response... 302 Found\n",
            "Location: https://www.dropbox.com/scl/fi/xah9i3ds4vsnv2kc0kgjh/LetrasABXYZ.zip?rlkey=cb6ob34agyssqf15sein66c2l [following]\n",
            "--2025-10-29 00:29:18--  https://www.dropbox.com/scl/fi/xah9i3ds4vsnv2kc0kgjh/LetrasABXYZ.zip?rlkey=cb6ob34agyssqf15sein66c2l\n",
            "Reusing existing connection to www.dropbox.com:443.\n",
            "HTTP request sent, awaiting response... 200 OK\n",
            "Length: unspecified [text/html]\n",
            "Saving to: ‘LetrasABXYZ.zip.3’\n",
            "\n",
            "LetrasABXYZ.zip.3       [ <=>                ] 179.62K  --.-KB/s    in 0.06s   \n",
            "\n",
            "2025-10-29 00:29:18 (2.81 MB/s) - ‘LetrasABXYZ.zip.3’ saved [183932]\n",
            "\n",
            "[LetrasABXYZ.zip]\n",
            "  End-of-central-directory signature not found.  Either this file is not\n",
            "  a zipfile, or it constitutes one disk of a multi-part archive.  In the\n",
            "  latter case the central directory and zipfile comment will be found on\n",
            "  the last disk(s) of this archive.\n",
            "unzip:  cannot find zipfile directory in one of LetrasABXYZ.zip or\n",
            "        LetrasABXYZ.zip.zip, and cannot find LetrasABXYZ.zip.ZIP, period.\n"
          ]
        }
      ],
      "source": [
        "!wget https://www.dropbox.com/s/sn6299q48lywx0x/LetrasABXYZ.zip\n",
        "!unzip -qq LetrasABXYZ.zip"
      ]
    },
    {
      "cell_type": "code",
      "execution_count": 2,
      "metadata": {
        "id": "DKmJw496yBT7"
      },
      "outputs": [],
      "source": [
        "import numpy as np\n",
        "import matplotlib.pyplot as plt\n",
        "import skimage\n",
        "import cv2\n",
        "\n",
        "from   tqdm.auto import tqdm\n",
        "\n",
        "from   scipy.ndimage import binary_fill_holes\n",
        "from   skimage.segmentation import find_boundaries"
      ]
    },
    {
      "cell_type": "code",
      "source": [
        "# Convierte un número en cadena con ceros a la izquierda\n",
        "def conv_num_str(x, d):\n",
        "    # '%0*d' formatea el número x con un ancho total d y rellena con ceros a la izquierda.\n",
        "    st = '%0*d' % (d, x)\n",
        "    return st  # Devuelve el número como string con el formato especificado\n",
        "\n",
        "# Carga una imagen construyendo automáticamente su nombre de archivo\n",
        "def cargar_imagen(prefijo, num_clase, digitos_clase, num_img, digitos_img, sep='_', verbose='off'):\n",
        "    # Construye el nombre del archivo de la imagen:\n",
        "    # ejemplo: prefijo='img', num_clase=3, num_img=7 → \"img03_007.png\"\n",
        "    st = (prefijo\n",
        "          + conv_num_str(num_clase, digitos_clase)  # Convierte el número de clase con ceros a la izquierda\n",
        "          + sep                                    # Agrega el separador (por defecto '_')\n",
        "          + conv_num_str(num_img, digitos_img)     # Convierte el número de imagen con ceros a la izquierda\n",
        "          + '.png')                                # Extensión del archivo\n",
        "\n",
        "    # Si verbose está activado, imprime el nombre del archivo que se abrirá\n",
        "    if verbose == 'on':\n",
        "        print('abriendo imagen ' + st + '...')\n",
        "\n",
        "    # Lee la imagen usando matplotlib y la devuelve como un arreglo NumPy\n",
        "    img = plt.imread(st)\n",
        "    return img  # Devuelve la imagen como un arreglo NumPy"
      ],
      "metadata": {
        "id": "LYhb2QWUYde_"
      },
      "execution_count": 3,
      "outputs": []
    },
    {
      "cell_type": "code",
      "execution_count": 4,
      "metadata": {
        "id": "Yn5G8OxGuEiD"
      },
      "outputs": [],
      "source": [
        "def conv_num_str(x,d):\n",
        "    st = '%0*d' % (d,x)\n",
        "    return st\n",
        "\n",
        "def cargar_imagen(prefijo,num_clase,digitos_clase,num_img,digitos_img,sep='_',verbose='off'):\n",
        "  st   = prefijo + conv_num_str(num_clase,digitos_clase) + sep + conv_num_str(num_img,digitos_img) + '.png'\n",
        "  if verbose == 'on':\n",
        "    print('abriendo image '+st+'...')\n",
        "  img    = plt.imread(st)\n",
        "  return img"
      ]
    },
    {
      "cell_type": "code",
      "execution_count": 5,
      "metadata": {
        "id": "7X3kvEllnfKS"
      },
      "outputs": [],
      "source": [
        "# Función para calcular descriptores de Fourier de una región binaria R\n",
        "def des_fourier(R, n_des=16, names=False):\n",
        "    # Rellenar agujeros en la región binaria R y convertirla a tipo uint8\n",
        "    R8h = binary_fill_holes(R).astype(np.uint8)\n",
        "\n",
        "    # Encontrar los contornos en la imagen binaria\n",
        "    contorno, jerarquia = cv2.findContours(R8h, cv2.RETR_TREE, cv2.CHAIN_APPROX_SIMPLE)\n",
        "\n",
        "    # Convertir los contornos encontrados en un array de numpy\n",
        "    x = np.array(contorno)\n",
        "\n",
        "    # Ajustar la forma del array para obtener las coordenadas del contorno\n",
        "    B = x.reshape(x.shape[1], 2)\n",
        "\n",
        "    # Convertir las coordenadas del contorno a números complejos\n",
        "    V = B[:, 0] + 1j * B[:, 1]\n",
        "    m = B.shape[0]  # Número de puntos en el contorno\n",
        "\n",
        "    # Inicialización de arrays para almacenar distancias y ángulos\n",
        "    r = np.zeros(m, dtype=complex)  # Distancias complejas entre puntos del contorno\n",
        "    phi = np.zeros(m)  # Ángulos\n",
        "    dphi = np.zeros(m)  # Diferencias de ángulos\n",
        "    l = np.zeros(m)  # Longitudes acumuladas a lo largo del contorno\n",
        "    dl = np.zeros(m)  # Longitudes entre puntos consecutivos\n",
        "\n",
        "    # Calcular la distancia entre el primer y último punto del contorno\n",
        "    r[0] = V[0] - V[m-1]\n",
        "\n",
        "    # Calcular distancias entre puntos consecutivos del contorno\n",
        "    r[1:] = V[1:] - V[:m-1]\n",
        "\n",
        "    # Calcular la longitud entre puntos consecutivos\n",
        "    dl = np.abs(r)\n",
        "\n",
        "    # Calcular los ángulos de los vectores r\n",
        "    phi = np.angle(r)\n",
        "\n",
        "    # Calcular las diferencias de ángulos entre puntos consecutivos\n",
        "    dphi[:m-1] = np.mod(phi[1:] - phi[:m-1] + np.pi, 2 * np.pi) - np.pi\n",
        "    dphi[m-1] = np.mod(phi[0] - phi[m-1] + np.pi, 2 * np.pi) - np.pi\n",
        "\n",
        "    # Calcular la longitud acumulada a lo largo del contorno\n",
        "    l[0] = dl[0]\n",
        "    for k in range(1, m):\n",
        "        l[k] = l[k-1] + dl[k]\n",
        "\n",
        "    # Normalizar las longitudes acumuladas a una escala de [0, 2π]\n",
        "    l = l * (2 * np.pi / l[m-1])\n",
        "\n",
        "    # Inicializar el array de descriptores de Fourier\n",
        "    descriptores = np.zeros(n_des)\n",
        "\n",
        "    # Calcular los descriptores de Fourier\n",
        "    for n in range(1, n_des + 1):\n",
        "        an = (dphi * np.sin(l * n)).sum()  # Coeficiente 'a' del n-ésimo término\n",
        "        bn = (dphi * np.cos(l * n)).sum()  # Coeficiente 'b' del n-ésimo término\n",
        "        an = -an / n / np.pi  # Normalización de 'a'\n",
        "        bn = bn / n / np.pi   # Normalización de 'b'\n",
        "        imagi = an + 1j * bn  # Número complejo que combina 'a' y 'b'\n",
        "        descriptores[n-1] = np.abs(imagi)  # Guardar la magnitud del descriptor\n",
        "\n",
        "    X = descriptores  # Los descriptores finales son las magnitudes de los términos complejos\n",
        "\n",
        "    # Si names=True, devolver también los nombres de los descriptores\n",
        "    if names:\n",
        "        return np.array([f'Fourier_des {n+1:>2d}' for n in range(n_des)]), descriptores\n",
        "\n",
        "    return X  # Devolver solo los descriptores si names=False\n"
      ]
    },
    {
      "cell_type": "code",
      "execution_count": 6,
      "metadata": {
        "id": "5g0FO5Z3vsoe"
      },
      "outputs": [],
      "source": [
        "def momentos_hu(R, nombres=False):\n",
        "  # regionprops\n",
        "  # https://scikit-image.org/docs/stable/api/skimage.measure.html#regionprops\n",
        "  propiedades = skimage.measure.regionprops(R)[0]\n",
        "\n",
        "  momentos = propiedades.moments_hu\n",
        "\n",
        "  if nombres:\n",
        "    nombres_momentos = ['Momento-Hu-1', 'Momento-Hu-2', 'Momento-Hu-3', 'Momento-Hu-4', 'Momento-Hu-5', 'Momento-Hu-6', 'Momento-Hu-7']\n",
        "    return momentos, nombres_momentos\n",
        "  else:\n",
        "    return momentos\n"
      ]
    },
    {
      "cell_type": "code",
      "execution_count": 7,
      "metadata": {
        "id": "fjq2DRorxEXn"
      },
      "outputs": [],
      "source": [
        "def momentos_flusser(R, nombres=False):\n",
        "  # Calcular los momentos de la región binaria R\n",
        "  momentos = cv2.moments(R, True)\n",
        "\n",
        "  # Asignar los momentos centrales necesarios\n",
        "  u00, u20, u11, u02, u30, u21, u12, u03 = momentos['m00'], momentos['mu20'], momentos['mu11'], momentos['mu02'],\n",
        "  momentos['mu30'], momentos['mu21'], momentos['mu12'], momentos['mu03']\n",
        "\n",
        "  # Cálculo de los invariantes de Flusser\n",
        "  I1 = (u20*u02 - u11**2) / u00**4\n",
        "  I2 = (u30**2 * u03**2 - 6*u30*u21*u12*u03 + 4*u30*u12**3 + 4*u21**3 * u03 - 3*u21**2 * u12**2) / u00**10\n",
        "  I3 = (u20*(u21*u03 - u12**2) - u11*(u30*u03 - u21*u12) + u02*(u30*u12 - u21**2)) / u00**7\n",
        "  I4 = (u20**3*u03**2 - 6*u20**2*u11*u12*u03 - 6*u20**2*u02*u21*u03 + 9*u20**2*u02*u12**2 +\n",
        "        12*u20*u11**2*u21*u03 + 6*u20*u11*u02*u30*u03 - 18*u20*u11*u02*u21*u12 - 8*u11**3*u30*u03 -\n",
        "        6*u20*u02**2*u30*u12 + 9*u20*u02**2*u21 + 12*u11**2*u02*u30*u12 - 6*u11*u02**2*u30*u21 + u02**3*u30**2) / u00**11\n",
        "\n",
        "  # Lista de invariantes calculados\n",
        "  invariantes = [I1, I2, I3, I4]\n",
        "\n",
        "  # Si se solicitan los nombres de los invariantes, devolver los nombres también\n",
        "  if nombres:\n",
        "    nombres_invariantes = ['Flusser-1', 'Flusser-2', 'Flusser-3', 'Flusser-4']\n",
        "    return invariantes, nombres_invariantes\n",
        "  else:\n",
        "    return invariantes\n"
      ]
    },
    {
      "cell_type": "code",
      "execution_count": 8,
      "metadata": {
        "id": "o3oT5um0xjRi"
      },
      "outputs": [],
      "source": [
        "def momentos_gupta(R, nombres=False):\n",
        "    # Encontrar los bordes de la región binaria R\n",
        "    B = skimage.segmentation.find_boundaries(R, mode='inner')\n",
        "\n",
        "    # Obtener las coordenadas (i_perim, j_perim) de los píxeles que forman el perímetro\n",
        "    i_perim, j_perim = np.where(B.astype(bool))\n",
        "\n",
        "    # Representar las coordenadas del perímetro como números complejos\n",
        "    im_perim = i_perim + j_perim * 1j\n",
        "\n",
        "    # Calcular el centroide del perímetro\n",
        "    ix = i_perim.mean()\n",
        "    jx = j_perim.mean()\n",
        "    centro = ix + jx * 1j\n",
        "\n",
        "    # Calcular la distancia entre cada punto del perímetro y el centroide\n",
        "    z = np.abs(im_perim - centro)\n",
        "    m1 = z.mean()  # Media de las distancias (primer momento)\n",
        "\n",
        "    # Desviaciones del primer momento\n",
        "    mur1 = z - m1\n",
        "    mur2 = mur1 * mur1  # Segundo momento centrado\n",
        "    mur3 = mur1 * mur2  # Tercer momento centrado\n",
        "    mur4 = mur2 * mur2  # Cuarto momento centrado\n",
        "\n",
        "    # Cálculo de los momentos estadísticos\n",
        "    mu2 = mur2.mean()  # Segundo momento\n",
        "    mu3 = mur3.mean()  # Tercer momento\n",
        "    mu4 = mur4.mean()  # Cuarto momento\n",
        "\n",
        "    # Cálculo de los descriptores de Gupta\n",
        "    F1 = (mu2 ** 0.5) / m1      # Primer descriptor de Gupta\n",
        "    F2 = mu3 / (mu2 * (mu2 ** 0.5))  # Segundo descriptor de Gupta\n",
        "    F3 = mu4 / mu2 ** 2         # Tercer descriptor de Gupta\n",
        "\n",
        "    # Crear un array con los tres descriptores\n",
        "    descriptores = np.array([F1, F2, F3])\n",
        "\n",
        "    # Si se solicitan los nombres de los descriptores, devolver también los nombres\n",
        "    if nombres:\n",
        "        nombres_descriptores = ['Gupta-1', 'Gupta-2', 'Gupta-3']\n",
        "        return descriptores, nombres_descriptores\n",
        "    else:\n",
        "        return descriptores\n"
      ]
    },
    {
      "cell_type": "code",
      "execution_count": 10,
      "metadata": {
        "id": "o8rBtfmOyOjt"
      },
      "outputs": [],
      "source": [
        "def geo_basica(R, nombres=False):\n",
        "    # Centro de masa\n",
        "    coordenadas = np.argwhere(R)\n",
        "    coordenadas_fila = coordenadas[:, 0]  # Coordenadas de la fila (i)\n",
        "    coordenadas_columna = coordenadas[:, 1]  # Coordenadas de la columna (j)\n",
        "    centro_fila = np.mean(coordenadas_fila)  # Promedio de las filas (centro de masa en el eje i)\n",
        "    centro_columna = np.mean(coordenadas_columna)  # Promedio de las columnas (centro de masa en el eje j)\n",
        "\n",
        "    # Altura\n",
        "    altura = np.max(coordenadas_fila) - np.min(coordenadas_fila) + 1\n",
        "\n",
        "    # Anchura\n",
        "    anchura = np.max(coordenadas_columna) - np.min(coordenadas_columna) + 1\n",
        "\n",
        "    # Área\n",
        "    area = np.sum(R)\n",
        "\n",
        "    # Perímetro\n",
        "    # Usar find_boundaries de skimage para encontrar los bordes del objeto en la imagen binaria\n",
        "    B = skimage.segmentation.find_boundaries(R, mode='inner')\n",
        "    perimetro = np.sum(B)\n",
        "\n",
        "    # Propiedades geométricas avanzadas usando regionprops\n",
        "    propiedades = skimage.measure.regionprops(R)[0]\n",
        "\n",
        "    # Circularidad (roundness)\n",
        "    circularidad = 4 * area * np.pi / (perimetro ** 2)\n",
        "\n",
        "    # Otras propiedades geométricas\n",
        "    solidez = propiedades.solidity  # Solidez: área sobre área convexa\n",
        "    numero_euler = propiedades.euler_number  # Número de Euler\n",
        "    diametro_equivalente = propiedades.equivalent_diameter_area  # Diámetro equivalente basado en el área\n",
        "    eje_mayor = propiedades.axis_major_length  # Longitud del eje mayor\n",
        "    eje_menor = propiedades.axis_minor_length  # Longitud del eje menor\n",
        "    orientacion = propiedades.orientation  # Orientación del objeto\n",
        "    extension = propiedades.extent  # Extensión: proporción de área sobre el cuadro delimitador\n",
        "    excentricidad = propiedades.eccentricity  # Excentricidad\n",
        "    area_convexa = propiedades.area_convex  # Área convexa\n",
        "\n",
        "    # Lista con todas las características geométricas calculadas\n",
        "    caracteristicas = [centro_fila, centro_columna, altura, anchura, area, perimetro, circularidad,\n",
        "                       numero_euler, diametro_equivalente, eje_mayor, eje_menor, orientacion,\n",
        "                       solidez, extension, excentricidad, area_convexa]\n",
        "\n",
        "    # Si se solicitan los nombres de las características, devolver también los nombres\n",
        "    if nombres:\n",
        "        nombres_caracteristicas = ['centro_fila', 'centro_columna', 'altura', 'anchura', 'area', 'perimetro', 'circularidad',\n",
        "                                   'numero_euler', 'diametro_equivalente', 'eje_mayor', 'eje_menor',\n",
        "                                   'orientacion', 'solidez', 'extension', 'excentricidad', 'area_convexa']\n",
        "        return caracteristicas, nombres_caracteristicas\n",
        "    else:\n",
        "        return caracteristicas\n"
      ]
    },
    {
      "cell_type": "code",
      "execution_count": 11,
      "metadata": {
        "colab": {
          "base_uri": "https://localhost:8080/",
          "height": 388,
          "referenced_widgets": [
            "967470a9bddd41428eab8afa7f95d400",
            "de758b6c4fbb4ca0a460b1e95e0645da",
            "4ab7c69f811941c08cba5e7343552c03",
            "e4fbdce0633e4c9c8e0aa90c43ef13b2",
            "9f3807d9de5d42b79805971fa67d830b",
            "70f6e19e00954324875d4b3c78086c55",
            "14022e5c229f443fa7de10cc3ae6aeba",
            "543689e37c34421a91fe854a24d9ab14",
            "37ab0ad3508e4a3a8f308b3db6f5549b",
            "4cac5825620c4af8b64ff8961b911fa5",
            "4e05f8e2dc644e4783718d3bdd4f6b3c"
          ]
        },
        "id": "6ndvcir6nbEq",
        "outputId": "6d3b536e-4c82-4e80-eecb-8edc415cb5ae"
      },
      "outputs": [
        {
          "output_type": "display_data",
          "data": {
            "text/plain": [
              "  0%|          | 0/100 [00:00<?, ?it/s]"
            ],
            "application/vnd.jupyter.widget-view+json": {
              "version_major": 2,
              "version_minor": 0,
              "model_id": "967470a9bddd41428eab8afa7f95d400"
            }
          },
          "metadata": {}
        },
        {
          "output_type": "error",
          "ename": "FileNotFoundError",
          "evalue": "[Errno 2] No such file or directory: 'ABXYZ/char_01_001.png'",
          "traceback": [
            "\u001b[0;31m---------------------------------------------------------------------------\u001b[0m",
            "\u001b[0;31mFileNotFoundError\u001b[0m                         Traceback (most recent call last)",
            "\u001b[0;32m/tmp/ipython-input-1270662404.py\u001b[0m in \u001b[0;36m<cell line: 0>\u001b[0;34m()\u001b[0m\n\u001b[1;32m     29\u001b[0m     \u001b[0;32mfor\u001b[0m \u001b[0mi\u001b[0m \u001b[0;32min\u001b[0m \u001b[0mtqdm\u001b[0m\u001b[0;34m(\u001b[0m\u001b[0mrange\u001b[0m\u001b[0;34m(\u001b[0m\u001b[0mN\u001b[0m\u001b[0;34m)\u001b[0m\u001b[0;34m)\u001b[0m\u001b[0;34m:\u001b[0m  \u001b[0;31m# Bucle sobre las imágenes dentro de la clase, con barra de progreso\u001b[0m\u001b[0;34m\u001b[0m\u001b[0;34m\u001b[0m\u001b[0m\n\u001b[1;32m     30\u001b[0m         \u001b[0;31m# Lectura de la imagen\u001b[0m\u001b[0;34m\u001b[0m\u001b[0;34m\u001b[0m\u001b[0m\n\u001b[0;32m---> 31\u001b[0;31m         \u001b[0mimg\u001b[0m \u001b[0;34m=\u001b[0m \u001b[0mcargar_imagen\u001b[0m\u001b[0;34m(\u001b[0m\u001b[0;34m'ABXYZ/char_'\u001b[0m\u001b[0;34m,\u001b[0m \u001b[0mj\u001b[0m\u001b[0;34m+\u001b[0m\u001b[0;36m1\u001b[0m\u001b[0;34m,\u001b[0m \u001b[0;36m2\u001b[0m\u001b[0;34m,\u001b[0m \u001b[0mi\u001b[0m\u001b[0;34m+\u001b[0m\u001b[0;36m1\u001b[0m\u001b[0;34m,\u001b[0m \u001b[0;36m3\u001b[0m\u001b[0;34m,\u001b[0m \u001b[0mverbose\u001b[0m\u001b[0;34m=\u001b[0m\u001b[0;34m'off'\u001b[0m\u001b[0;34m)\u001b[0m\u001b[0;34m\u001b[0m\u001b[0;34m\u001b[0m\u001b[0m\n\u001b[0m\u001b[1;32m     32\u001b[0m \u001b[0;34m\u001b[0m\u001b[0m\n\u001b[1;32m     33\u001b[0m         \u001b[0;31m# Dilatación de la imagen utilizando un disco de radio 3\u001b[0m\u001b[0;34m\u001b[0m\u001b[0;34m\u001b[0m\u001b[0m\n",
            "\u001b[0;32m/tmp/ipython-input-377515054.py\u001b[0m in \u001b[0;36mcargar_imagen\u001b[0;34m(prefijo, num_clase, digitos_clase, num_img, digitos_img, sep, verbose)\u001b[0m\n\u001b[1;32m      7\u001b[0m   \u001b[0;32mif\u001b[0m \u001b[0mverbose\u001b[0m \u001b[0;34m==\u001b[0m \u001b[0;34m'on'\u001b[0m\u001b[0;34m:\u001b[0m\u001b[0;34m\u001b[0m\u001b[0;34m\u001b[0m\u001b[0m\n\u001b[1;32m      8\u001b[0m     \u001b[0mprint\u001b[0m\u001b[0;34m(\u001b[0m\u001b[0;34m'abriendo image '\u001b[0m\u001b[0;34m+\u001b[0m\u001b[0mst\u001b[0m\u001b[0;34m+\u001b[0m\u001b[0;34m'...'\u001b[0m\u001b[0;34m)\u001b[0m\u001b[0;34m\u001b[0m\u001b[0;34m\u001b[0m\u001b[0m\n\u001b[0;32m----> 9\u001b[0;31m   \u001b[0mimg\u001b[0m    \u001b[0;34m=\u001b[0m \u001b[0mplt\u001b[0m\u001b[0;34m.\u001b[0m\u001b[0mimread\u001b[0m\u001b[0;34m(\u001b[0m\u001b[0mst\u001b[0m\u001b[0;34m)\u001b[0m\u001b[0;34m\u001b[0m\u001b[0;34m\u001b[0m\u001b[0m\n\u001b[0m\u001b[1;32m     10\u001b[0m   \u001b[0;32mreturn\u001b[0m \u001b[0mimg\u001b[0m\u001b[0;34m\u001b[0m\u001b[0;34m\u001b[0m\u001b[0m\n",
            "\u001b[0;32m/usr/local/lib/python3.12/dist-packages/matplotlib/pyplot.py\u001b[0m in \u001b[0;36mimread\u001b[0;34m(fname, format)\u001b[0m\n\u001b[1;32m   2611\u001b[0m         \u001b[0mfname\u001b[0m\u001b[0;34m:\u001b[0m \u001b[0mstr\u001b[0m \u001b[0;34m|\u001b[0m \u001b[0mpathlib\u001b[0m\u001b[0;34m.\u001b[0m\u001b[0mPath\u001b[0m \u001b[0;34m|\u001b[0m \u001b[0mBinaryIO\u001b[0m\u001b[0;34m,\u001b[0m \u001b[0mformat\u001b[0m\u001b[0;34m:\u001b[0m \u001b[0mstr\u001b[0m \u001b[0;34m|\u001b[0m \u001b[0;32mNone\u001b[0m \u001b[0;34m=\u001b[0m \u001b[0;32mNone\u001b[0m\u001b[0;34m\u001b[0m\u001b[0;34m\u001b[0m\u001b[0m\n\u001b[1;32m   2612\u001b[0m ) -> np.ndarray:\n\u001b[0;32m-> 2613\u001b[0;31m     \u001b[0;32mreturn\u001b[0m \u001b[0mmatplotlib\u001b[0m\u001b[0;34m.\u001b[0m\u001b[0mimage\u001b[0m\u001b[0;34m.\u001b[0m\u001b[0mimread\u001b[0m\u001b[0;34m(\u001b[0m\u001b[0mfname\u001b[0m\u001b[0;34m,\u001b[0m \u001b[0mformat\u001b[0m\u001b[0;34m)\u001b[0m\u001b[0;34m\u001b[0m\u001b[0;34m\u001b[0m\u001b[0m\n\u001b[0m\u001b[1;32m   2614\u001b[0m \u001b[0;34m\u001b[0m\u001b[0m\n\u001b[1;32m   2615\u001b[0m \u001b[0;34m\u001b[0m\u001b[0m\n",
            "\u001b[0;32m/usr/local/lib/python3.12/dist-packages/matplotlib/image.py\u001b[0m in \u001b[0;36mimread\u001b[0;34m(fname, format)\u001b[0m\n\u001b[1;32m   1500\u001b[0m             \u001b[0;34m\"``np.array(PIL.Image.open(urllib.request.urlopen(url)))``.\"\u001b[0m\u001b[0;34m\u001b[0m\u001b[0;34m\u001b[0m\u001b[0m\n\u001b[1;32m   1501\u001b[0m             )\n\u001b[0;32m-> 1502\u001b[0;31m     \u001b[0;32mwith\u001b[0m \u001b[0mimg_open\u001b[0m\u001b[0;34m(\u001b[0m\u001b[0mfname\u001b[0m\u001b[0;34m)\u001b[0m \u001b[0;32mas\u001b[0m \u001b[0mimage\u001b[0m\u001b[0;34m:\u001b[0m\u001b[0;34m\u001b[0m\u001b[0;34m\u001b[0m\u001b[0m\n\u001b[0m\u001b[1;32m   1503\u001b[0m         return (_pil_png_to_float_array(image)\n\u001b[1;32m   1504\u001b[0m                 \u001b[0;32mif\u001b[0m \u001b[0misinstance\u001b[0m\u001b[0;34m(\u001b[0m\u001b[0mimage\u001b[0m\u001b[0;34m,\u001b[0m \u001b[0mPIL\u001b[0m\u001b[0;34m.\u001b[0m\u001b[0mPngImagePlugin\u001b[0m\u001b[0;34m.\u001b[0m\u001b[0mPngImageFile\u001b[0m\u001b[0;34m)\u001b[0m \u001b[0;32melse\u001b[0m\u001b[0;34m\u001b[0m\u001b[0;34m\u001b[0m\u001b[0m\n",
            "\u001b[0;32m/usr/local/lib/python3.12/dist-packages/PIL/ImageFile.py\u001b[0m in \u001b[0;36m__init__\u001b[0;34m(self, fp, filename)\u001b[0m\n\u001b[1;32m    133\u001b[0m         \u001b[0;32mif\u001b[0m \u001b[0mis_path\u001b[0m\u001b[0;34m(\u001b[0m\u001b[0mfp\u001b[0m\u001b[0;34m)\u001b[0m\u001b[0;34m:\u001b[0m\u001b[0;34m\u001b[0m\u001b[0;34m\u001b[0m\u001b[0m\n\u001b[1;32m    134\u001b[0m             \u001b[0;31m# filename\u001b[0m\u001b[0;34m\u001b[0m\u001b[0;34m\u001b[0m\u001b[0m\n\u001b[0;32m--> 135\u001b[0;31m             \u001b[0mself\u001b[0m\u001b[0;34m.\u001b[0m\u001b[0mfp\u001b[0m \u001b[0;34m=\u001b[0m \u001b[0mopen\u001b[0m\u001b[0;34m(\u001b[0m\u001b[0mfp\u001b[0m\u001b[0;34m,\u001b[0m \u001b[0;34m\"rb\"\u001b[0m\u001b[0;34m)\u001b[0m\u001b[0;34m\u001b[0m\u001b[0;34m\u001b[0m\u001b[0m\n\u001b[0m\u001b[1;32m    136\u001b[0m             \u001b[0mself\u001b[0m\u001b[0;34m.\u001b[0m\u001b[0mfilename\u001b[0m \u001b[0;34m=\u001b[0m \u001b[0mos\u001b[0m\u001b[0;34m.\u001b[0m\u001b[0mfspath\u001b[0m\u001b[0;34m(\u001b[0m\u001b[0mfp\u001b[0m\u001b[0;34m)\u001b[0m\u001b[0;34m\u001b[0m\u001b[0;34m\u001b[0m\u001b[0m\n\u001b[1;32m    137\u001b[0m             \u001b[0mself\u001b[0m\u001b[0;34m.\u001b[0m\u001b[0m_exclusive_fp\u001b[0m \u001b[0;34m=\u001b[0m \u001b[0;32mTrue\u001b[0m\u001b[0;34m\u001b[0m\u001b[0;34m\u001b[0m\u001b[0m\n",
            "\u001b[0;31mFileNotFoundError\u001b[0m: [Errno 2] No such file or directory: 'ABXYZ/char_01_001.png'"
          ]
        }
      ],
      "source": [
        "K = 5   # número de clases\n",
        "N = 100 # número de imágenes por clase\n",
        "\n",
        "# Características geométricas básicas\n",
        "Mbg  = 16\n",
        "Xbg = np.zeros((K*N, Mbg))  # Matriz para almacenar características geométricas básicas\n",
        "\n",
        "# Descriptores de Fourier\n",
        "Mfd  = 16\n",
        "Xfd = np.zeros((K*N, Mfd))  # Matriz para almacenar descriptores de Fourier\n",
        "\n",
        "# Momentos de Hu\n",
        "Mhu  = 7\n",
        "Xhu = np.zeros((K*N, Mhu))  # Matriz para almacenar momentos de Hu\n",
        "\n",
        "# Momentos de Flusser\n",
        "Mfl  = 4\n",
        "Xfl = np.zeros((K*N, Mfl))  # Matriz para almacenar momentos de Flusser\n",
        "\n",
        "# Momentos de Gupta\n",
        "Mgu  = 3\n",
        "Xgu = np.zeros((K*N, Mgu))  # Matriz para almacenar momentos de Gupta\n",
        "\n",
        "y = np.zeros((K*N), 'int')  # Etiquetas de clase o \"ground truth\"\n",
        "\n",
        "t = 0  # Inicializa un contador para llevar el índice total de imágenes procesadas\n",
        "\n",
        "for j in range(K):  # Bucle sobre el número de clases\n",
        "    for i in tqdm(range(N)):  # Bucle sobre las imágenes dentro de la clase, con barra de progreso\n",
        "        # Lectura de la imagen\n",
        "        img = cargar_imagen('ABXYZ/char_', j+1, 2, i+1, 3, verbose='off')\n",
        "\n",
        "        # Dilatación de la imagen utilizando un disco de radio 3\n",
        "        img3 = dilation(img, disk(3))  # Unir la imagen usando dilatación con un disco de radio 3\n",
        "\n",
        "        # Binarización de la imagen: convertir la imagen en valores binarios (0 y 1)\n",
        "        R = img3 > 0.5\n",
        "\n",
        "        # Rellenar los agujeros en las regiones binarias y convertirlo a enteros (0 y 1)\n",
        "        R = binary_fill_holes(R).astype(int)\n",
        "\n",
        "        # Extracción de características:\n",
        "        Xfd[t, :] = des_fourier(R)  # Extraer descriptores de Fourier\n",
        "        Xhu[t, :] = momentos_hu(R)       # Extraer momentos de Hu\n",
        "        Xfl[t, :] = momentos_flusser(R)     # Extraer momentos de Flusser\n",
        "        Xgu[t, :] = momentos_gupta(R)       # Extraer momentos de Gupta\n",
        "        Xbg[t, :] = geo_basica(R)    # Extraer características geométricas básicas\n",
        "\n",
        "        # Asignar la etiqueta de clase correspondiente a la imagen procesada\n",
        "        y[t] = j\n",
        "\n",
        "        # Incrementar el contador de imágenes procesadas\n",
        "        t = t + 1\n"
      ]
    },
    {
      "cell_type": "code",
      "execution_count": null,
      "metadata": {
        "colab": {
          "base_uri": "https://localhost:8080/"
        },
        "id": "uFk_NlsDzrey",
        "outputId": "a99d50fd-99e0-4c4e-fa19-82a3b7c5e835"
      },
      "outputs": [
        {
          "name": "stdout",
          "output_type": "stream",
          "text": [
            "0 centro_fila\n",
            "1 centro_columna\n",
            "2 altura\n",
            "3 anchura\n",
            "4 area\n",
            "5 perimetro\n",
            "6 circularidad\n",
            "7 numero_euler\n",
            "8 diametro_equivalente\n",
            "9 eje_mayor\n",
            "10 eje_menor\n",
            "11 orientacion\n",
            "12 solidez\n",
            "13 extension\n",
            "14 excentricidad\n",
            "15 area_convexa\n"
          ]
        }
      ],
      "source": [
        "x,xn = geo_basica(R,nombres='True')\n",
        "\n",
        "for k in range(16):\n",
        "  print(k,xn[k])"
      ]
    },
    {
      "cell_type": "code",
      "execution_count": null,
      "metadata": {
        "id": "VwFhgoH10Fo3"
      },
      "outputs": [],
      "source": [
        "seleccion_geo = [2,3,4,5,6,7,8,9,10,12,13,14,15]  # características invariantes a la rotación y traslación\n",
        "Xbg2 = Xbg[:,seleccion_geo]  # <- nuevas características geométricas básicas\n"
      ]
    },
    {
      "cell_type": "code",
      "execution_count": null,
      "metadata": {
        "id": "FdNbEG0lqfOg"
      },
      "outputs": [],
      "source": [
        "K = 5   # número de clases\n",
        "N = 100 # número de imágenes por clase\n",
        "\n",
        "# Características geométricas básicas\n",
        "Mbg  = 16\n",
        "Xbg = np.zeros((K*N, Mbg))  # Matriz para almacenar características geométricas básicas\n",
        "\n",
        "# Descriptores de Fourier\n",
        "Mfd  = 16\n",
        "Xfd = np.zeros((K*N, Mfd))  # Matriz para almacenar descriptores de Fourier\n",
        "\n",
        "# Momentos de Hu\n",
        "Mhu  = 7\n",
        "Xhu = np.zeros((K*N, Mhu))  # Matriz para almacenar momentos de Hu\n",
        "\n",
        "# Momentos de Flusser\n",
        "Mfl  = 4\n",
        "Xfl = np.zeros((K*N, Mfl))  # Matriz para almacenar momentos de Flusser\n",
        "\n",
        "# Momentos de Gupta\n",
        "Mgu  = 3\n",
        "Xgu = np.zeros((K*N, Mgu))  # Matriz para almacenar momentos de Gupta\n",
        "\n",
        "y = np.zeros((K*N), 'int')  # Etiquetas de clase o \"ground truth\"\n",
        "\n",
        "t = 0  # Inicializa un contador para llevar el índice total de imágenes procesadas\n",
        "\n",
        "for j in range(K):  # Bucle sobre el número de clases\n",
        "    for i in tqdm(range(N)):  # Bucle sobre las imágenes dentro de la clase, con barra de progreso\n",
        "        # Lectura de la imagen\n",
        "        img = imageload('LetrasABXYZ/char_', j+1, 2, i+1, 3, echo='off')\n",
        "\n",
        "        # Dilatación de la imagen utilizando un disco de radio 3\n",
        "        img3 = dilation(img, disk(3))  # Unir la imagen usando dilatación con un disco de radio 3\n",
        "\n",
        "        # Binarización de la imagen: convertir la imagen en valores binarios (0 y 1)\n",
        "        R = img3 > 0.5\n",
        "\n",
        "        # Rellenar los agujeros en las regiones binarias y convertirlo a enteros (0 y 1)\n",
        "        R = binary_fill_holes(R).astype(int)\n",
        "\n",
        "        # Extracción de características:\n",
        "        Xfd[t, :] = fourierdes(R)  # Extraer descriptores de Fourier\n",
        "        Xhu[t, :] = hugeo(R)       # Extraer momentos de Hu\n",
        "        Xfl[t, :] = flusser(R)     # Extraer momentos de Flusser\n",
        "        Xgu[t, :] = gupta(R)       # Extraer momentos de Gupta\n",
        "        Xbg[t, :] = basicgeo(R)    # Extraer características geométricas básicas\n",
        "\n",
        "        # Asignar la etiqueta de clase correspondiente a la imagen procesada\n",
        "        y[t] = j\n",
        "\n",
        "        # Incrementar el contador de imágenes procesadas\n",
        "        t = t + 1\n"
      ]
    },
    {
      "cell_type": "code",
      "execution_count": null,
      "metadata": {
        "id": "xFIJ8VqE1_rB"
      },
      "outputs": [],
      "source": [
        "from itertools import combinations\n",
        "import warnings\n",
        "import tqdm\n",
        "\n",
        "# Función de Fisher para la selección de características\n",
        "def jfisher(caracteristicas, ypred, p=None):\n",
        "    m = caracteristicas.shape[1]\n",
        "\n",
        "    norm = ypred.ravel() - ypred.min()\n",
        "    max_clase = norm.max() + 1\n",
        "\n",
        "    if p is None:\n",
        "        p = np.ones(shape=(max_clase, 1)) / max_clase\n",
        "\n",
        "    # Centroide de todas las muestras\n",
        "    media_caracteristicas = caracteristicas.mean(0)\n",
        "\n",
        "    # Covarianza dentro de la clase\n",
        "    cov_w = np.zeros(shape=(m, m))\n",
        "\n",
        "    # Covarianza entre clases\n",
        "    cov_b = np.zeros(shape=(m, m))\n",
        "\n",
        "    for k in range(max_clase):\n",
        "        ii = (norm == k)                                   # Índices de la clase k\n",
        "        caracteristicas_clase = caracteristicas[ii, :]     # Muestras de la clase k\n",
        "        media_clase = caracteristicas_clase.mean(0)        # Centroide de la clase k\n",
        "        covarianza_clase = np.cov(caracteristicas_clase, rowvar=False)  # Covarianza de la clase k\n",
        "\n",
        "        cov_w += p[k] * covarianza_clase                   # Covarianza dentro de la clase\n",
        "\n",
        "        dif = (media_clase - media_caracteristicas).reshape((m, 1))\n",
        "        cov_b += p[k] * dif @ dif.T                        # Covarianza entre clases\n",
        "    try:\n",
        "        return np.trace(np.linalg.inv(cov_w) @ cov_b)\n",
        "    except np.linalg.LinAlgError:\n",
        "        return -np.inf"
      ]
    },
    {
      "cell_type": "code",
      "execution_count": null,
      "metadata": {
        "id": "Yu7MmJDW7COS"
      },
      "outputs": [],
      "source": [
        "# Implementación de la Selección Secuencial de Características (SFS)\n",
        "from tqdm import tqdm  # Importa la función tqdm directamente\n",
        "\n",
        "def sfs_fisher(X, y, p):\n",
        "    m = X.shape[1]\n",
        "    caracteristicas_disponibles = np.ones((m,))\n",
        "    caracteristicas_seleccionadas = -np.ones((p,), int)\n",
        "    Jmax = 0\n",
        "\n",
        "    # Bucle para seleccionar p características\n",
        "    for j in tqdm(range(p)):\n",
        "        for k in range(m):  # Bucle sobre cada característica disponible\n",
        "            if caracteristicas_disponibles[k]:  # Si la característica k está disponible\n",
        "                caracteristicas_seleccionadas[j] = k\n",
        "                columnas = caracteristicas_seleccionadas[0:j+1]\n",
        "                Xsel = X[:, columnas]\n",
        "                J = jfisher(Xsel, y)\n",
        "                if J > Jmax:\n",
        "                    Jmax = J\n",
        "                    ksel = k\n",
        "                    print('> seleccionada: J(' + str(columnas) + ') = ' + str(J / 100))\n",
        "        caracteristicas_disponibles[ksel] = 0\n",
        "        caracteristicas_seleccionadas[j] = ksel\n",
        "\n",
        "    return caracteristicas_seleccionadas\n"
      ]
    },
    {
      "cell_type": "code",
      "execution_count": null,
      "metadata": {
        "id": "Keep63gP82ai"
      },
      "outputs": [],
      "source": [
        "# Separación entre entrenamiento y prueba\n",
        "# Las primeras n muestras de X serán para el entrenamiento, el resto\n",
        "# para la prueba\n",
        "def DividirDatos(X, y, n):\n",
        "\n",
        "    K = np.max(y) + 1              # Número de clases\n",
        "    N = int(X.shape[0] / K)        # Número de muestras por clase\n",
        "    Ntrain = n * K                 # Número de muestras para el entrenamiento\n",
        "    Ntest = K * N - Ntrain         # Número de muestras para la prueba\n",
        "    M = X.shape[1]                 # Número de características por muestra\n",
        "    Xtrain = np.zeros((Ntrain, M))  # Subconjunto de entrenamiento\n",
        "    ytrain = np.zeros((Ntrain), 'int')  # Ground truth (etiquetas) de entrenamiento\n",
        "    Xtest = np.zeros((Ntest, M))    # Subconjunto de prueba\n",
        "    ytest = np.zeros((Ntest), 'int')   # Ground truth (etiquetas) de prueba\n",
        "\n",
        "    # Contadores\n",
        "    itrain = 0\n",
        "    itest = 0\n",
        "    t = 0\n",
        "\n",
        "    for j in range(K):  # Para cada clase\n",
        "        for i in range(N):  # Para cada imagen de la clase\n",
        "            if i < n:  # Si es para entrenamiento\n",
        "                Xtrain[itrain, :] = X[t, :]\n",
        "                ytrain[itrain] = y[t]\n",
        "                itrain = itrain + 1\n",
        "            else:  # Si es para prueba\n",
        "                Xtest[itest, :] = X[t, :]\n",
        "                ytest[itest] = y[t]\n",
        "                itest = itest + 1\n",
        "            t = t + 1\n",
        "\n",
        "    return Xtrain, ytrain, Xtest, ytest"
      ]
    },
    {
      "cell_type": "code",
      "execution_count": null,
      "metadata": {
        "id": "pDVyYQLW7NNB"
      },
      "outputs": [],
      "source": [
        "# Entrada\n",
        "X_original = np.concatenate((Xbg2, Xfd, Xhu, Xfl, Xgu), axis=1)  # Concatenar todas las características\n",
        "\n",
        "# Dividir en Entrenamiento/Prueba\n",
        "Xtrain_original, ytrain, Xtest_original, ytest = DividirDatos(X_original, y, 75)  # Las primeras n muestras de cada clase son entrenamiento, el resto es prueba\n"
      ]
    },
    {
      "cell_type": "code",
      "execution_count": null,
      "metadata": {
        "id": "w_MkG9LQ9n1J"
      },
      "outputs": [],
      "source": [
        "# Función para limpiar las características\n",
        "def limpiar(caracteristicas, mostrar=False):\n",
        "    n_caracteristicas = caracteristicas.shape[1]\n",
        "    ip = np.ones(n_caracteristicas, dtype=int)\n",
        "\n",
        "    # Limpieza de características correlacionadas\n",
        "    warnings.filterwarnings('ignore')\n",
        "    C = np.abs(np.corrcoef(caracteristicas, rowvar=False))\n",
        "    idxs = np.vstack(np.where(C > .99))\n",
        "\n",
        "    # Eliminar pares de la misma característica (una característica tendrá correlación de 1 consigo misma)\n",
        "    idxs = idxs[:, idxs[0, :] != idxs[1, :]]\n",
        "\n",
        "    # Eliminar características correlacionadas\n",
        "    if idxs.size > 0:\n",
        "        ip[np.max(idxs, 0)] = 0\n",
        "\n",
        "    # Eliminar características constantes\n",
        "    s = caracteristicas.std(axis=0, ddof=1)\n",
        "    ip[s < 1e-8] = 0\n",
        "    p = np.where(ip.astype(bool))[0]\n",
        "\n",
        "    if mostrar:\n",
        "        print(f'Limpiar: número de características reducido de {n_caracteristicas} a {p.size}.')\n",
        "\n",
        "    return p"
      ]
    },
    {
      "cell_type": "code",
      "execution_count": null,
      "metadata": {
        "colab": {
          "base_uri": "https://localhost:8080/"
        },
        "id": "m0eCpAQS9Xlb",
        "outputId": "013029f2-c843-464b-c7e3-c2c60c432f99"
      },
      "outputs": [
        {
          "name": "stdout",
          "output_type": "stream",
          "text": [
            "[ 0  1  2  3  4  7  8  9 10 11 12 13 14 15 16 17 18 19 20 21 22 23 24 25\n",
            " 26 27 28 29 30 31 32 33 34 35 36 37 39 40 41 42]\n",
            "(40,)\n"
          ]
        }
      ],
      "source": [
        "# Limpieza de características\n",
        "sclean = limpiar(Xtrain_original)  # Índices de las características seleccionadas (sin las características constantes)\n",
        "Xtrain_clean = Xtrain_original[:, sclean]  # Nuevos datos de entrenamiento sin características constantes\n",
        "Xtest_clean = Xtest_original[:, sclean]    # Nuevos datos de prueba sin características constantes\n",
        "\n",
        "print(sclean)  # Imprimir los índices de las características seleccionadas\n",
        "print(sclean.shape)  # Imprimir la forma de los índices seleccionados"
      ]
    },
    {
      "cell_type": "code",
      "execution_count": null,
      "metadata": {
        "id": "sduMOD9r-1rN"
      },
      "outputs": [],
      "source": [
        "def minmax(X):\n",
        "    ma = X.max(0)      # El valor máximo de cada columna (característica)\n",
        "    mi = X.min(0)      # El valor mínimo de cada columna (característica)\n",
        "    md = ma - mi       # Diferencia entre el valor máximo y mínimo (rango)\n",
        "    a = 1 / md         # El coeficiente de escalado (1/rango)\n",
        "    b = -mi / md       # El término de traslación (que mueve el mínimo al 0)\n",
        "    return X * a + b, a, b  # Devuelve los datos normalizados, junto con 'a' y 'b'\n"
      ]
    },
    {
      "cell_type": "code",
      "execution_count": null,
      "metadata": {
        "id": "SINsulr2-Yqs"
      },
      "outputs": [],
      "source": []
    },
    {
      "cell_type": "code",
      "execution_count": null,
      "metadata": {
        "colab": {
          "base_uri": "https://localhost:8080/"
        },
        "id": "SinmNnUZ1_hQ",
        "outputId": "a4d4d492-e2f6-4926-cfec-03a35951fa94"
      },
      "outputs": [
        {
          "name": "stderr",
          "output_type": "stream",
          "text": [
            " 13%|█▎        | 2/15 [00:00<00:00, 16.66it/s]"
          ]
        },
        {
          "name": "stdout",
          "output_type": "stream",
          "text": [
            "> seleccionada: J([0]) = 4.4453444901265056e-05\n",
            "> seleccionada: J([1]) = 0.0012298941077666192\n",
            "> seleccionada: J([2]) = 0.005908993352206653\n",
            "> seleccionada: J([3]) = 0.006651953300911958\n",
            "> seleccionada: J([4]) = 0.03811883620597881\n",
            "> seleccionada: J([12]) = 0.06072655506861238\n",
            "> seleccionada: J([13]) = 0.14688281034968875\n",
            "> seleccionada: J([13  0]) = 0.1495930675954814\n",
            "> seleccionada: J([13  1]) = 0.15376574292072565\n",
            "> seleccionada: J([13  3]) = 0.1828521033171121\n",
            "> seleccionada: J([13  4]) = 0.26254982264393695\n",
            "> seleccionada: J([13 12]) = 0.272646717380343\n",
            "> seleccionada: J([13 12  0]) = 0.2747012119312428\n",
            "> seleccionada: J([13 12  1]) = 0.27958686110805425\n",
            "> seleccionada: J([13 12  2]) = 0.2870586970961179\n",
            "> seleccionada: J([13 12  3]) = 0.2918373505427225\n",
            "> seleccionada: J([13 12  4]) = 0.361939576706788\n",
            "> seleccionada: J([13 12  4  0]) = 0.3648003505425171\n",
            "> seleccionada: J([13 12  4  1]) = 0.36999566816923235\n",
            "> seleccionada: J([13 12  4  2]) = 0.38531030319822723\n",
            "> seleccionada: J([13 12  4 11]) = 0.40618725649369286\n",
            "> seleccionada: J([13 12  4 17]) = 0.4109411656314698\n"
          ]
        },
        {
          "name": "stderr",
          "output_type": "stream",
          "text": [
            " 53%|█████▎    | 8/15 [00:00<00:00, 19.19it/s]"
          ]
        },
        {
          "name": "stdout",
          "output_type": "stream",
          "text": [
            "> seleccionada: J([13 12  4 17  0]) = 0.4143052378165176\n",
            "> seleccionada: J([13 12  4 17  1]) = 0.4204094801872823\n",
            "> seleccionada: J([13 12  4 17  2]) = 0.433848996201061\n",
            "> seleccionada: J([13 12  4 17 11]) = 0.4531666922942671\n",
            "> seleccionada: J([13 12  4 17 14]) = 0.4607546369307034\n",
            "> seleccionada: J([13 12  4 17 14  0]) = 0.4637694841194624\n",
            "> seleccionada: J([13 12  4 17 14  1]) = 0.4646814772840401\n",
            "> seleccionada: J([13 12  4 17 14  2]) = 0.4728309392451393\n",
            "> seleccionada: J([13 12  4 17 14  5]) = 0.47864382163241226\n",
            "> seleccionada: J([13 12  4 17 14 11]) = 0.5030824830469117\n",
            "> seleccionada: J([13 12  4 17 14 11  0]) = 0.505793616897644\n",
            "> seleccionada: J([13 12  4 17 14 11  1]) = 0.5075656911260628\n",
            "> seleccionada: J([13 12  4 17 14 11  2]) = 0.5194440421995228\n",
            "> seleccionada: J([13 12  4 17 14 11  5]) = 0.5203864285203706\n",
            "> seleccionada: J([13 12  4 17 14 11  7]) = 0.5221104956279339\n",
            "> seleccionada: J([13 12  4 17 14 11 16]) = 0.5251885904846124\n",
            "> seleccionada: J([13 12  4 17 14 11 18]) = 0.5377669070383047\n",
            "> seleccionada: J([13 12  4 17 14 11 38]) = 0.5399332520652245\n",
            "> seleccionada: J([13 12  4 17 14 11 38  0]) = 0.5447993187625921\n",
            "> seleccionada: J([13 12  4 17 14 11 38  2]) = 0.5581587862463332\n",
            "> seleccionada: J([13 12  4 17 14 11 38 18]) = 0.5731631259280882\n",
            "> seleccionada: J([13 12  4 17 14 11 38 20]) = 0.5749303981631811\n",
            "> seleccionada: J([13 12  4 17 14 11 38 24]) = 0.5922040268360425\n"
          ]
        },
        {
          "name": "stderr",
          "output_type": "stream",
          "text": [
            "\r 73%|███████▎  | 11/15 [00:00<00:00, 18.55it/s]"
          ]
        },
        {
          "name": "stdout",
          "output_type": "stream",
          "text": [
            "> seleccionada: J([13 12  4 17 14 11 38 24  0]) = 0.6026856447117938\n",
            "> seleccionada: J([13 12  4 17 14 11 38 24  1]) = 0.6031008238593407\n",
            "> seleccionada: J([13 12  4 17 14 11 38 24  2]) = 0.6415064603882038\n",
            "> seleccionada: J([13 12  4 17 14 11 38 24  2  0]) = 0.6460787597165036\n",
            "> seleccionada: J([13 12  4 17 14 11 38 24  2  1]) = 0.6880816598853435\n",
            "> seleccionada: J([13 12  4 17 14 11 38 24  2  3]) = 0.7024411413431602\n",
            "> seleccionada: J([13 12  4 17 14 11 38 24  2  3  0]) = 0.7045788145521438\n",
            "> seleccionada: J([13 12  4 17 14 11 38 24  2  3  1]) = 0.7286722558507052\n",
            "> seleccionada: J([13 12  4 17 14 11 38 24  2  3  5]) = 0.7311560563903592\n",
            "> seleccionada: J([13 12  4 17 14 11 38 24  2  3 10]) = 0.7633611522457532\n",
            "> seleccionada: J([13 12  4 17 14 11 38 24  2  3 10  0]) = 0.7668639884673083\n",
            "> seleccionada: J([13 12  4 17 14 11 38 24  2  3 10  1]) = 0.8209288790928416\n",
            "> seleccionada: J([13 12  4 17 14 11 38 24  2  3 10  8]) = 0.8411672119432343\n"
          ]
        },
        {
          "name": "stderr",
          "output_type": "stream",
          "text": [
            "100%|██████████| 15/15 [00:00<00:00, 18.83it/s]"
          ]
        },
        {
          "name": "stdout",
          "output_type": "stream",
          "text": [
            "> seleccionada: J([13 12  4 17 14 11 38 24  2  3 10  8  0]) = 0.8475453505881589\n",
            "> seleccionada: J([13 12  4 17 14 11 38 24  2  3 10  8  1]) = 0.8636658405808332\n",
            "> seleccionada: J([13 12  4 17 14 11 38 24  2  3 10  8 18]) = 0.8702867737959634\n",
            "> seleccionada: J([13 12  4 17 14 11 38 24  2  3 10  8 20]) = 0.8996991119978857\n",
            "> seleccionada: J([13 12  4 17 14 11 38 24  2  3 10  8 20  0]) = 0.9028733602680034\n",
            "> seleccionada: J([13 12  4 17 14 11 38 24  2  3 10  8 20  1]) = 0.9153603748549644\n",
            "> seleccionada: J([13 12  4 17 14 11 38 24  2  3 10  8 20  6]) = 0.9218440150292768\n",
            "> seleccionada: J([13 12  4 17 14 11 38 24  2  3 10  8 20  7]) = 0.9224789173378138\n",
            "> seleccionada: J([13 12  4 17 14 11 38 24  2  3 10  8 20 18]) = 0.9291302539572743\n",
            "> seleccionada: J([13 12  4 17 14 11 38 24  2  3 10  8 20 28]) = 0.9327103713929925\n",
            "> seleccionada: J([13 12  4 17 14 11 38 24  2  3 10  8 20 34]) = 0.9330453249563609\n",
            "> seleccionada: J([13 12  4 17 14 11 38 24  2  3 10  8 20 34  0]) = 0.9376464943163947\n",
            "> seleccionada: J([13 12  4 17 14 11 38 24  2  3 10  8 20 34  1]) = 0.9486062553690584\n",
            "> seleccionada: J([13 12  4 17 14 11 38 24  2  3 10  8 20 34  5]) = 0.9509083684444399\n",
            "> seleccionada: J([13 12  4 17 14 11 38 24  2  3 10  8 20 34  7]) = 0.9523425782325815\n",
            "> seleccionada: J([13 12  4 17 14 11 38 24  2  3 10  8 20 34  9]) = 0.9537604481292498\n",
            "> seleccionada: J([13 12  4 17 14 11 38 24  2  3 10  8 20 34 18]) = 0.9597174981663814\n",
            "> seleccionada: J([13 12  4 17 14 11 38 24  2  3 10  8 20 34 27]) = 0.9737771421785111\n",
            "> seleccionada: J([13 12  4 17 14 11 38 24  2  3 10  8 20 34 28]) = 0.9744761436450575\n"
          ]
        },
        {
          "name": "stderr",
          "output_type": "stream",
          "text": [
            "\n"
          ]
        }
      ],
      "source": [
        "#Selección SFS con Fisher\n",
        "p  = 15 # número de características a seleccionar\n",
        "ss = sfs_fisher(Xtrain_norm,ytrain,p)"
      ]
    },
    {
      "cell_type": "code",
      "execution_count": null,
      "metadata": {
        "id": "D5wkJf3TBTvu"
      },
      "outputs": [],
      "source": [
        "# Classification and Evaluation\n",
        "from   sklearn.metrics   import confusion_matrix, accuracy_score\n",
        "from   sklearn.neighbors import KNeighborsClassifier\n"
      ]
    },
    {
      "cell_type": "code",
      "source": [
        "#División de datos\n",
        "#from sklearn.model_selection import train_test_split\n",
        "\n",
        "#X_entren, X_test, Y_entren , Y_test = train_test_split(X , Y, test_size=0.3)"
      ],
      "metadata": {
        "id": "vyRzJipAYGtg"
      },
      "execution_count": null,
      "outputs": []
    },
    {
      "cell_type": "code",
      "execution_count": null,
      "metadata": {
        "id": "hwA_B-QNA6ko"
      },
      "outputs": [],
      "source": [
        "# Clasificación usando KNN con K vecinos\n",
        "def Clasificador_KNN(Xtrain, ytrain, Xtest, K):\n",
        "    # Normalización MinMax\n",
        "    # Xtrain, a, b = minmax(Xtrain)\n",
        "    # Xtest = Xtest * a + b\n",
        "\n",
        "    # Entrenamiento\n",
        "    knn = KNeighborsClassifier(n_neighbors=K)\n",
        "    knn.fit(Xtrain, ytrain)\n",
        "    print('Entrenando con ' + str(Xtrain.shape[0]) + ' muestras y probando con ' + str(Xtest.shape[0]) + ' muestras')\n",
        "\n",
        "    # Prueba\n",
        "    ypred = knn.predict(Xtest)\n",
        "    return ypred"
      ]
    },
    {
      "cell_type": "code",
      "execution_count": null,
      "metadata": {
        "id": "tNC68kDEBadZ"
      },
      "outputs": [],
      "source": [
        "def Precision_Matriz_Confusion(ytest, ypred):\n",
        "    # Evaluación del desempeño\n",
        "    acc = accuracy_score(ytest, ypred)\n",
        "    print('Precisión en el conjunto de prueba = ' + str(acc * 100) + '%')\n",
        "    C = confusion_matrix(ytest, ypred)\n",
        "    print('Matriz de confusión:')\n",
        "    print(C)\n",
        "    return acc, C"
      ]
    },
    {
      "cell_type": "code",
      "execution_count": null,
      "metadata": {
        "id": "EcNXwNCCBvrG"
      },
      "outputs": [],
      "source": [
        "# EJEMPLO DE USO:\n",
        "# Xtrain, ytrain, Xtest, ytest = DividirDatos(X, y, n)  # Las primeras n muestras de cada clase de X son entrenamiento, el resto es prueba\n",
        "# ypred = Clasificador_KNN(Xtrain, ytrain, Xtest, 3)         # Cálculo de la predicción con un KNN de 3 vecinos\n",
        "# acc, C = Precision_Matriz_Confusion(ytest, ypred)                # Precisión y matriz de confusión"
      ]
    },
    {
      "cell_type": "code",
      "execution_count": null,
      "metadata": {
        "colab": {
          "base_uri": "https://localhost:8080/"
        },
        "id": "H6V8xheHCBri",
        "outputId": "85f81830-399d-4c94-cd55-e3e4b4ea9d9f"
      },
      "outputs": [
        {
          "name": "stdout",
          "output_type": "stream",
          "text": [
            "Entrenando con 375 muestras y probando con 125 muestras\n",
            "Precisión en el conjunto de prueba = 68.0%\n",
            "Matriz de confusión:\n",
            "[[16  3  1  1  4]\n",
            " [ 0 20  4  1  0]\n",
            " [ 1  3 16  1  4]\n",
            " [ 6  0  0 14  5]\n",
            " [ 0  5  0  1 19]]\n"
          ]
        }
      ],
      "source": [
        "# Clasificación con datos originales (sin normalizar)\n",
        "vecinos = 3  # número de vecinos para KNN\n",
        "ypred = Clasificador_KNN(Xtrain_original, ytrain, Xtest_original, vecinos)  # Cálculo de la predicción con KNN de 3 vecinos\n",
        "acc, C = Precision_Matriz_Confusion(ytest, ypred)  # Calcular precisión y matriz de confusión"
      ]
    },
    {
      "cell_type": "code",
      "execution_count": null,
      "metadata": {
        "colab": {
          "base_uri": "https://localhost:8080/"
        },
        "id": "W_qe2pfQD5BZ",
        "outputId": "6c6acd40-9beb-4076-c093-5737fd68a54b"
      },
      "outputs": [
        {
          "data": {
            "text/plain": [
              "array([[ 7.90000000e+01,  6.80000000e+01,  3.74500000e+03, ...,\n",
              "         2.80762049e-01, -5.46705073e-01,  2.19873803e+00],\n",
              "       [ 8.10000000e+01,  9.20000000e+01,  5.18600000e+03, ...,\n",
              "         2.49513463e-01, -6.87610770e-01,  2.56556412e+00],\n",
              "       [ 9.60000000e+01,  1.05000000e+02,  6.63400000e+03, ...,\n",
              "         2.53066157e-01, -6.73044289e-01,  2.56655025e+00],\n",
              "       ...,\n",
              "       [ 9.00000000e+01,  8.60000000e+01,  5.21000000e+03, ...,\n",
              "         3.10399795e-01, -9.52095287e-01,  3.16629139e+00],\n",
              "       [ 9.90000000e+01,  1.02000000e+02,  9.46100000e+03, ...,\n",
              "         9.81821795e-02,  1.01092010e-01,  1.91261600e+00],\n",
              "       [ 9.90000000e+01,  1.02000000e+02,  9.46100000e+03, ...,\n",
              "         9.81821795e-02,  1.01092010e-01,  1.91261600e+00]])"
            ]
          },
          "execution_count": 92,
          "metadata": {},
          "output_type": "execute_result"
        }
      ],
      "source": [
        "XX=Xtest_original\n",
        "XX"
      ]
    },
    {
      "cell_type": "code",
      "execution_count": null,
      "metadata": {
        "colab": {
          "base_uri": "https://localhost:8080/"
        },
        "id": "lbE3ImeMD_uW",
        "outputId": "a55b8481-314d-4837-edc9-d9f66844948b"
      },
      "outputs": [
        {
          "name": "stdout",
          "output_type": "stream",
          "text": [
            "[False False False False False  True False False False False False False\n",
            " False False False False False False False False False False False False\n",
            " False False False False False False False False False False False False\n",
            " False False False False False False False]\n",
            "Características constantes: [5]\n"
          ]
        }
      ],
      "source": [
        "# Encontrar las características constantes\n",
        "constantes = np.all(XX == XX[0, :], axis=0)\n",
        "\n",
        "# Imprimir las columnas constantes (True indica que la columna es constante)\n",
        "print(constantes)\n",
        "\n",
        "# Mostrar los índices de las características constantes\n",
        "columnas_constantes = np.where(constantes)[0]\n",
        "print(\"Características constantes:\", columnas_constantes)"
      ]
    },
    {
      "cell_type": "code",
      "execution_count": null,
      "metadata": {
        "colab": {
          "base_uri": "https://localhost:8080/"
        },
        "id": "FWAUybNXFKiV",
        "outputId": "ef431103-ae42-405b-9806-d806951bba43"
      },
      "outputs": [
        {
          "name": "stdout",
          "output_type": "stream",
          "text": [
            "Columnas con NaN: [False False False False False  True False False False False False False\n",
            " False False False False False False False False False False False False\n",
            " False False False False False False False False False False False False\n",
            " False False False False False False False]\n",
            "Índices de columnas con NaN: [5]\n"
          ]
        }
      ],
      "source": [
        "XXX=Xtrain_norm\n",
        "\n",
        "col_con_nan = np.any(np.isnan(XXX), axis=0)\n",
        "\n",
        "# Imprimir qué columnas tienen NaN\n",
        "print(\"Columnas con NaN:\", col_con_nan)\n",
        "\n",
        "# Mostrar los índices de las columnas que tienen NaN\n",
        "columnas_con_nan = np.where(col_con_nan)[0]\n",
        "print(\"Índices de columnas con NaN:\", columnas_con_nan)"
      ]
    },
    {
      "cell_type": "code",
      "execution_count": null,
      "metadata": {
        "colab": {
          "base_uri": "https://localhost:8080/",
          "height": 417
        },
        "id": "PUOl4vSeCb4J",
        "outputId": "992d9338-405f-46e1-edf0-1d2f1eab89f8"
      },
      "outputs": [
        {
          "ename": "ValueError",
          "evalue": "Input X contains NaN.\nKNeighborsClassifier does not accept missing values encoded as NaN natively. For supervised learning, you might want to consider sklearn.ensemble.HistGradientBoostingClassifier and Regressor which accept missing values encoded as NaNs natively. Alternatively, it is possible to preprocess the data, for instance by using an imputer transformer in a pipeline or drop samples with missing values. See https://scikit-learn.org/stable/modules/impute.html You can find a list of all estimators that handle NaN values at the following page: https://scikit-learn.org/stable/modules/impute.html#estimators-that-handle-nan-values",
          "output_type": "error",
          "traceback": [
            "\u001b[0;31m---------------------------------------------------------------------------\u001b[0m",
            "\u001b[0;31mValueError\u001b[0m                                Traceback (most recent call last)",
            "\u001b[0;32m<ipython-input-96-de8fbc96d8b3>\u001b[0m in \u001b[0;36m<cell line: 6>\u001b[0;34m()\u001b[0m\n\u001b[1;32m      4\u001b[0m \u001b[0mXtest_norm\u001b[0m \u001b[0;34m=\u001b[0m \u001b[0mXtest_original\u001b[0m \u001b[0;34m*\u001b[0m \u001b[0ma\u001b[0m \u001b[0;34m+\u001b[0m \u001b[0mb\u001b[0m  \u001b[0;31m# Aplicar la normalización a los datos de prueba\u001b[0m\u001b[0;34m\u001b[0m\u001b[0;34m\u001b[0m\u001b[0m\n\u001b[1;32m      5\u001b[0m \u001b[0;34m\u001b[0m\u001b[0m\n\u001b[0;32m----> 6\u001b[0;31m \u001b[0mypred\u001b[0m \u001b[0;34m=\u001b[0m \u001b[0mClasificador_KNN\u001b[0m\u001b[0;34m(\u001b[0m\u001b[0mXtrain_norm\u001b[0m\u001b[0;34m,\u001b[0m \u001b[0mytrain\u001b[0m\u001b[0;34m,\u001b[0m \u001b[0mXtest_norm\u001b[0m\u001b[0;34m,\u001b[0m \u001b[0mvecinos\u001b[0m\u001b[0;34m)\u001b[0m  \u001b[0;31m# Cálculo de la predicción con KNN de 3 vecinos\u001b[0m\u001b[0;34m\u001b[0m\u001b[0;34m\u001b[0m\u001b[0m\n\u001b[0m\u001b[1;32m      7\u001b[0m \u001b[0macc\u001b[0m\u001b[0;34m,\u001b[0m \u001b[0mC\u001b[0m \u001b[0;34m=\u001b[0m \u001b[0mPrecision_Matriz_Confusion\u001b[0m\u001b[0;34m(\u001b[0m\u001b[0mytest\u001b[0m\u001b[0;34m,\u001b[0m \u001b[0mypred\u001b[0m\u001b[0;34m)\u001b[0m  \u001b[0;31m# Calcular precisión y matriz de confusión\u001b[0m\u001b[0;34m\u001b[0m\u001b[0;34m\u001b[0m\u001b[0m\n\u001b[1;32m      8\u001b[0m \u001b[0;34m\u001b[0m\u001b[0m\n",
            "\u001b[0;32m<ipython-input-64-bcba5ca39bac>\u001b[0m in \u001b[0;36mClasificador_KNN\u001b[0;34m(Xtrain, ytrain, Xtest, K)\u001b[0m\n\u001b[1;32m      7\u001b[0m     \u001b[0;31m# Entrenamiento\u001b[0m\u001b[0;34m\u001b[0m\u001b[0;34m\u001b[0m\u001b[0m\n\u001b[1;32m      8\u001b[0m     \u001b[0mknn\u001b[0m \u001b[0;34m=\u001b[0m \u001b[0mKNeighborsClassifier\u001b[0m\u001b[0;34m(\u001b[0m\u001b[0mn_neighbors\u001b[0m\u001b[0;34m=\u001b[0m\u001b[0mK\u001b[0m\u001b[0;34m)\u001b[0m\u001b[0;34m\u001b[0m\u001b[0;34m\u001b[0m\u001b[0m\n\u001b[0;32m----> 9\u001b[0;31m     \u001b[0mknn\u001b[0m\u001b[0;34m.\u001b[0m\u001b[0mfit\u001b[0m\u001b[0;34m(\u001b[0m\u001b[0mXtrain\u001b[0m\u001b[0;34m,\u001b[0m \u001b[0mytrain\u001b[0m\u001b[0;34m)\u001b[0m\u001b[0;34m\u001b[0m\u001b[0;34m\u001b[0m\u001b[0m\n\u001b[0m\u001b[1;32m     10\u001b[0m     \u001b[0mprint\u001b[0m\u001b[0;34m(\u001b[0m\u001b[0;34m'Entrenando con '\u001b[0m \u001b[0;34m+\u001b[0m \u001b[0mstr\u001b[0m\u001b[0;34m(\u001b[0m\u001b[0mXtrain\u001b[0m\u001b[0;34m.\u001b[0m\u001b[0mshape\u001b[0m\u001b[0;34m[\u001b[0m\u001b[0;36m0\u001b[0m\u001b[0;34m]\u001b[0m\u001b[0;34m)\u001b[0m \u001b[0;34m+\u001b[0m \u001b[0;34m' muestras y probando con '\u001b[0m \u001b[0;34m+\u001b[0m \u001b[0mstr\u001b[0m\u001b[0;34m(\u001b[0m\u001b[0mXtest\u001b[0m\u001b[0;34m.\u001b[0m\u001b[0mshape\u001b[0m\u001b[0;34m[\u001b[0m\u001b[0;36m0\u001b[0m\u001b[0;34m]\u001b[0m\u001b[0;34m)\u001b[0m \u001b[0;34m+\u001b[0m \u001b[0;34m' muestras'\u001b[0m\u001b[0;34m)\u001b[0m\u001b[0;34m\u001b[0m\u001b[0;34m\u001b[0m\u001b[0m\n\u001b[1;32m     11\u001b[0m \u001b[0;34m\u001b[0m\u001b[0m\n",
            "\u001b[0;32m/usr/local/lib/python3.10/dist-packages/sklearn/base.py\u001b[0m in \u001b[0;36mwrapper\u001b[0;34m(estimator, *args, **kwargs)\u001b[0m\n\u001b[1;32m   1471\u001b[0m                 )\n\u001b[1;32m   1472\u001b[0m             ):\n\u001b[0;32m-> 1473\u001b[0;31m                 \u001b[0;32mreturn\u001b[0m \u001b[0mfit_method\u001b[0m\u001b[0;34m(\u001b[0m\u001b[0mestimator\u001b[0m\u001b[0;34m,\u001b[0m \u001b[0;34m*\u001b[0m\u001b[0margs\u001b[0m\u001b[0;34m,\u001b[0m \u001b[0;34m**\u001b[0m\u001b[0mkwargs\u001b[0m\u001b[0;34m)\u001b[0m\u001b[0;34m\u001b[0m\u001b[0;34m\u001b[0m\u001b[0m\n\u001b[0m\u001b[1;32m   1474\u001b[0m \u001b[0;34m\u001b[0m\u001b[0m\n\u001b[1;32m   1475\u001b[0m         \u001b[0;32mreturn\u001b[0m \u001b[0mwrapper\u001b[0m\u001b[0;34m\u001b[0m\u001b[0;34m\u001b[0m\u001b[0m\n",
            "\u001b[0;32m/usr/local/lib/python3.10/dist-packages/sklearn/neighbors/_classification.py\u001b[0m in \u001b[0;36mfit\u001b[0;34m(self, X, y)\u001b[0m\n\u001b[1;32m    236\u001b[0m             \u001b[0mThe\u001b[0m \u001b[0mfitted\u001b[0m \u001b[0mk\u001b[0m\u001b[0;34m-\u001b[0m\u001b[0mnearest\u001b[0m \u001b[0mneighbors\u001b[0m \u001b[0mclassifier\u001b[0m\u001b[0;34m.\u001b[0m\u001b[0;34m\u001b[0m\u001b[0;34m\u001b[0m\u001b[0m\n\u001b[1;32m    237\u001b[0m         \"\"\"\n\u001b[0;32m--> 238\u001b[0;31m         \u001b[0;32mreturn\u001b[0m \u001b[0mself\u001b[0m\u001b[0;34m.\u001b[0m\u001b[0m_fit\u001b[0m\u001b[0;34m(\u001b[0m\u001b[0mX\u001b[0m\u001b[0;34m,\u001b[0m \u001b[0my\u001b[0m\u001b[0;34m)\u001b[0m\u001b[0;34m\u001b[0m\u001b[0;34m\u001b[0m\u001b[0m\n\u001b[0m\u001b[1;32m    239\u001b[0m \u001b[0;34m\u001b[0m\u001b[0m\n\u001b[1;32m    240\u001b[0m     \u001b[0;32mdef\u001b[0m \u001b[0mpredict\u001b[0m\u001b[0;34m(\u001b[0m\u001b[0mself\u001b[0m\u001b[0;34m,\u001b[0m \u001b[0mX\u001b[0m\u001b[0;34m)\u001b[0m\u001b[0;34m:\u001b[0m\u001b[0;34m\u001b[0m\u001b[0;34m\u001b[0m\u001b[0m\n",
            "\u001b[0;32m/usr/local/lib/python3.10/dist-packages/sklearn/neighbors/_base.py\u001b[0m in \u001b[0;36m_fit\u001b[0;34m(self, X, y)\u001b[0m\n\u001b[1;32m    473\u001b[0m         \u001b[0;32mif\u001b[0m \u001b[0mself\u001b[0m\u001b[0;34m.\u001b[0m\u001b[0m_get_tags\u001b[0m\u001b[0;34m(\u001b[0m\u001b[0;34m)\u001b[0m\u001b[0;34m[\u001b[0m\u001b[0;34m\"requires_y\"\u001b[0m\u001b[0;34m]\u001b[0m\u001b[0;34m:\u001b[0m\u001b[0;34m\u001b[0m\u001b[0;34m\u001b[0m\u001b[0m\n\u001b[1;32m    474\u001b[0m             \u001b[0;32mif\u001b[0m \u001b[0;32mnot\u001b[0m \u001b[0misinstance\u001b[0m\u001b[0;34m(\u001b[0m\u001b[0mX\u001b[0m\u001b[0;34m,\u001b[0m \u001b[0;34m(\u001b[0m\u001b[0mKDTree\u001b[0m\u001b[0;34m,\u001b[0m \u001b[0mBallTree\u001b[0m\u001b[0;34m,\u001b[0m \u001b[0mNeighborsBase\u001b[0m\u001b[0;34m)\u001b[0m\u001b[0;34m)\u001b[0m\u001b[0;34m:\u001b[0m\u001b[0;34m\u001b[0m\u001b[0;34m\u001b[0m\u001b[0m\n\u001b[0;32m--> 475\u001b[0;31m                 X, y = self._validate_data(\n\u001b[0m\u001b[1;32m    476\u001b[0m                     \u001b[0mX\u001b[0m\u001b[0;34m,\u001b[0m \u001b[0my\u001b[0m\u001b[0;34m,\u001b[0m \u001b[0maccept_sparse\u001b[0m\u001b[0;34m=\u001b[0m\u001b[0;34m\"csr\"\u001b[0m\u001b[0;34m,\u001b[0m \u001b[0mmulti_output\u001b[0m\u001b[0;34m=\u001b[0m\u001b[0;32mTrue\u001b[0m\u001b[0;34m,\u001b[0m \u001b[0morder\u001b[0m\u001b[0;34m=\u001b[0m\u001b[0;34m\"C\"\u001b[0m\u001b[0;34m\u001b[0m\u001b[0;34m\u001b[0m\u001b[0m\n\u001b[1;32m    477\u001b[0m                 )\n",
            "\u001b[0;32m/usr/local/lib/python3.10/dist-packages/sklearn/base.py\u001b[0m in \u001b[0;36m_validate_data\u001b[0;34m(self, X, y, reset, validate_separately, cast_to_ndarray, **check_params)\u001b[0m\n\u001b[1;32m    648\u001b[0m                 \u001b[0my\u001b[0m \u001b[0;34m=\u001b[0m \u001b[0mcheck_array\u001b[0m\u001b[0;34m(\u001b[0m\u001b[0my\u001b[0m\u001b[0;34m,\u001b[0m \u001b[0minput_name\u001b[0m\u001b[0;34m=\u001b[0m\u001b[0;34m\"y\"\u001b[0m\u001b[0;34m,\u001b[0m \u001b[0;34m**\u001b[0m\u001b[0mcheck_y_params\u001b[0m\u001b[0;34m)\u001b[0m\u001b[0;34m\u001b[0m\u001b[0;34m\u001b[0m\u001b[0m\n\u001b[1;32m    649\u001b[0m             \u001b[0;32melse\u001b[0m\u001b[0;34m:\u001b[0m\u001b[0;34m\u001b[0m\u001b[0;34m\u001b[0m\u001b[0m\n\u001b[0;32m--> 650\u001b[0;31m                 \u001b[0mX\u001b[0m\u001b[0;34m,\u001b[0m \u001b[0my\u001b[0m \u001b[0;34m=\u001b[0m \u001b[0mcheck_X_y\u001b[0m\u001b[0;34m(\u001b[0m\u001b[0mX\u001b[0m\u001b[0;34m,\u001b[0m \u001b[0my\u001b[0m\u001b[0;34m,\u001b[0m \u001b[0;34m**\u001b[0m\u001b[0mcheck_params\u001b[0m\u001b[0;34m)\u001b[0m\u001b[0;34m\u001b[0m\u001b[0;34m\u001b[0m\u001b[0m\n\u001b[0m\u001b[1;32m    651\u001b[0m             \u001b[0mout\u001b[0m \u001b[0;34m=\u001b[0m \u001b[0mX\u001b[0m\u001b[0;34m,\u001b[0m \u001b[0my\u001b[0m\u001b[0;34m\u001b[0m\u001b[0;34m\u001b[0m\u001b[0m\n\u001b[1;32m    652\u001b[0m \u001b[0;34m\u001b[0m\u001b[0m\n",
            "\u001b[0;32m/usr/local/lib/python3.10/dist-packages/sklearn/utils/validation.py\u001b[0m in \u001b[0;36mcheck_X_y\u001b[0;34m(X, y, accept_sparse, accept_large_sparse, dtype, order, copy, force_writeable, force_all_finite, ensure_2d, allow_nd, multi_output, ensure_min_samples, ensure_min_features, y_numeric, estimator)\u001b[0m\n\u001b[1;32m   1299\u001b[0m         )\n\u001b[1;32m   1300\u001b[0m \u001b[0;34m\u001b[0m\u001b[0m\n\u001b[0;32m-> 1301\u001b[0;31m     X = check_array(\n\u001b[0m\u001b[1;32m   1302\u001b[0m         \u001b[0mX\u001b[0m\u001b[0;34m,\u001b[0m\u001b[0;34m\u001b[0m\u001b[0;34m\u001b[0m\u001b[0m\n\u001b[1;32m   1303\u001b[0m         \u001b[0maccept_sparse\u001b[0m\u001b[0;34m=\u001b[0m\u001b[0maccept_sparse\u001b[0m\u001b[0;34m,\u001b[0m\u001b[0;34m\u001b[0m\u001b[0;34m\u001b[0m\u001b[0m\n",
            "\u001b[0;32m/usr/local/lib/python3.10/dist-packages/sklearn/utils/validation.py\u001b[0m in \u001b[0;36mcheck_array\u001b[0;34m(array, accept_sparse, accept_large_sparse, dtype, order, copy, force_writeable, force_all_finite, ensure_2d, allow_nd, ensure_min_samples, ensure_min_features, estimator, input_name)\u001b[0m\n\u001b[1;32m   1062\u001b[0m \u001b[0;34m\u001b[0m\u001b[0m\n\u001b[1;32m   1063\u001b[0m         \u001b[0;32mif\u001b[0m \u001b[0mforce_all_finite\u001b[0m\u001b[0;34m:\u001b[0m\u001b[0;34m\u001b[0m\u001b[0;34m\u001b[0m\u001b[0m\n\u001b[0;32m-> 1064\u001b[0;31m             _assert_all_finite(\n\u001b[0m\u001b[1;32m   1065\u001b[0m                 \u001b[0marray\u001b[0m\u001b[0;34m,\u001b[0m\u001b[0;34m\u001b[0m\u001b[0;34m\u001b[0m\u001b[0m\n\u001b[1;32m   1066\u001b[0m                 \u001b[0minput_name\u001b[0m\u001b[0;34m=\u001b[0m\u001b[0minput_name\u001b[0m\u001b[0;34m,\u001b[0m\u001b[0;34m\u001b[0m\u001b[0;34m\u001b[0m\u001b[0m\n",
            "\u001b[0;32m/usr/local/lib/python3.10/dist-packages/sklearn/utils/validation.py\u001b[0m in \u001b[0;36m_assert_all_finite\u001b[0;34m(X, allow_nan, msg_dtype, estimator_name, input_name)\u001b[0m\n\u001b[1;32m    121\u001b[0m         \u001b[0;32mreturn\u001b[0m\u001b[0;34m\u001b[0m\u001b[0;34m\u001b[0m\u001b[0m\n\u001b[1;32m    122\u001b[0m \u001b[0;34m\u001b[0m\u001b[0m\n\u001b[0;32m--> 123\u001b[0;31m     _assert_all_finite_element_wise(\n\u001b[0m\u001b[1;32m    124\u001b[0m         \u001b[0mX\u001b[0m\u001b[0;34m,\u001b[0m\u001b[0;34m\u001b[0m\u001b[0;34m\u001b[0m\u001b[0m\n\u001b[1;32m    125\u001b[0m         \u001b[0mxp\u001b[0m\u001b[0;34m=\u001b[0m\u001b[0mxp\u001b[0m\u001b[0;34m,\u001b[0m\u001b[0;34m\u001b[0m\u001b[0;34m\u001b[0m\u001b[0m\n",
            "\u001b[0;32m/usr/local/lib/python3.10/dist-packages/sklearn/utils/validation.py\u001b[0m in \u001b[0;36m_assert_all_finite_element_wise\u001b[0;34m(X, xp, allow_nan, msg_dtype, estimator_name, input_name)\u001b[0m\n\u001b[1;32m    170\u001b[0m                 \u001b[0;34m\"#estimators-that-handle-nan-values\"\u001b[0m\u001b[0;34m\u001b[0m\u001b[0;34m\u001b[0m\u001b[0m\n\u001b[1;32m    171\u001b[0m             )\n\u001b[0;32m--> 172\u001b[0;31m         \u001b[0;32mraise\u001b[0m \u001b[0mValueError\u001b[0m\u001b[0;34m(\u001b[0m\u001b[0mmsg_err\u001b[0m\u001b[0;34m)\u001b[0m\u001b[0;34m\u001b[0m\u001b[0;34m\u001b[0m\u001b[0m\n\u001b[0m\u001b[1;32m    173\u001b[0m \u001b[0;34m\u001b[0m\u001b[0m\n\u001b[1;32m    174\u001b[0m \u001b[0;34m\u001b[0m\u001b[0m\n",
            "\u001b[0;31mValueError\u001b[0m: Input X contains NaN.\nKNeighborsClassifier does not accept missing values encoded as NaN natively. For supervised learning, you might want to consider sklearn.ensemble.HistGradientBoostingClassifier and Regressor which accept missing values encoded as NaNs natively. Alternatively, it is possible to preprocess the data, for instance by using an imputer transformer in a pipeline or drop samples with missing values. See https://scikit-learn.org/stable/modules/impute.html You can find a list of all estimators that handle NaN values at the following page: https://scikit-learn.org/stable/modules/impute.html#estimators-that-handle-nan-values"
          ]
        }
      ],
      "source": [
        "# Clasificación con datos normalizados del original\n",
        "# Normalización MinMax\n",
        "Xtrain_norm1, a, b = minmax(Xtrain_original)  # Calcular los parámetros de normalización (mínimo y máximo)\n",
        "Xtest_norm = Xtest_original * a + b  # Aplicar la normalización a los datos de prueba\n",
        "\n",
        "ypred = Clasificador_KNN(Xtrain_norm1, ytrain, Xtest_norm, vecinos)  # Cálculo de la predicción con KNN de 3 vecinos\n",
        "acc, C = Precision_Matriz_Confusion(ytest, ypred)  # Calcular precisión y matriz de confusión\n",
        "\n",
        "#ERROR PORQUE HAY CARACTERÍSTICAS CONSTANTES => DIVISIÓN POR CERO"
      ]
    },
    {
      "cell_type": "code",
      "execution_count": null,
      "metadata": {
        "id": "vMnBuvQKDXlj"
      },
      "outputs": [],
      "source": [
        "#MINimax corregida\n",
        "def minmax(X):\n",
        "    ma = X.max(0)\n",
        "    mi = X.min(0)\n",
        "    md = ma - mi  # Rango de cada característica\n",
        "    # Evitar división por cero reemplazando el rango 0 por 1\n",
        "    md[md == 0] = 1\n",
        "    a = 1 / md\n",
        "    b = -mi / md\n",
        "    return X * a + b, a, b\n",
        "\n",
        "print(np.isnan(Xtrain_norm).sum(), np.isnan(Xtest_norm).sum())  # Esto te mostrará el número de valores NaN\n",
        "\n",
        "# Normalización MinMax en los datos \"limpios\"\n",
        "Xtrain_norm, a, b = minmax(Xtrain_original)  # Calcular los parámetros de normalización (mínimo y máximo)\n",
        "Xtest_norm = Xtest_original * a + b  # Aplicar la normalización a los datos de prueba\n",
        "\n",
        "# Verificar si hay valores NaN\n",
        "print(np.isnan(Xtrain_norm).sum(), np.isnan(Xtest_norm).sum())  # Muestra el número de NaN en los datos\n",
        "\n",
        "# Aplicar el clasificador KNN si no hay NaN\n",
        "if np.isnan(Xtrain_norm).sum() == 0 and np.isnan(Xtest_norm).sum() == 0:\n",
        "    ypred = Clasificador_KNN(Xtrain_norm, ytrain, Xtest_norm, vecinos)  # Cálculo de la predicción con KNN de 3 vecinos\n",
        "    acc, C = Precision_Matriz_Confusion(ytest, ypred)  # Calcular precisión y matriz de confusión\n",
        "else:\n",
        "    print(\"Existen valores NaN en los datos, es necesario corregirlos.\")\n"
      ]
    },
    {
      "cell_type": "code",
      "execution_count": null,
      "metadata": {
        "colab": {
          "base_uri": "https://localhost:8080/"
        },
        "id": "c-wkjQzYFe2S",
        "outputId": "1779e7db-67d3-4eba-b61b-f6b6a7fb1022"
      },
      "outputs": [
        {
          "name": "stdout",
          "output_type": "stream",
          "text": [
            "Entrenando con 375 muestras y probando con 125 muestras\n",
            "Precisión en el conjunto de prueba = 68.0%\n",
            "Matriz de confusión:\n",
            "[[16  3  1  1  4]\n",
            " [ 0 20  4  1  0]\n",
            " [ 1  3 16  1  4]\n",
            " [ 6  0  0 14  5]\n",
            " [ 0  5  0  1 19]]\n"
          ]
        }
      ],
      "source": [
        "# Clasificación con datos \"limpios\" (sin normalización)\n",
        "\n",
        "ypred = Clasificador_KNN(Xtrain_clean, ytrain, Xtest_clean, n_neighbors)  # Cálculo de la predicción con KNN de 3 vecinos\n",
        "acc, C = Precision_Matriz_Confusion(ytest, ypred)  # Calcular precisión y matriz de confusión"
      ]
    },
    {
      "cell_type": "code",
      "execution_count": null,
      "metadata": {
        "id": "tsHPrU13IItx"
      },
      "outputs": [],
      "source": [
        "# Normalización MinMax en los datos \"limpios\"\n",
        "Xtrain_norm, a, b = minmax(Xtrain_clean)  # Calcular los parámetros de normalización en los datos limpios\n",
        "Xtest_norm = Xtest_clean * a + b  # Aplicar la normalización a los datos de prueba limpios"
      ]
    },
    {
      "cell_type": "code",
      "execution_count": null,
      "metadata": {
        "colab": {
          "base_uri": "https://localhost:8080/"
        },
        "id": "XxevLLrV8oaW",
        "outputId": "8e668dd7-5a79-4cf9-8b0a-b6ed492c200a"
      },
      "outputs": [
        {
          "name": "stdout",
          "output_type": "stream",
          "text": [
            "Entrenando con 375 muestras y probando con 125 muestras\n",
            "Precisión en el conjunto de prueba = 80.80000000000001%\n",
            "Matriz de confusión:\n",
            "[[17  0  2  6  0]\n",
            " [ 0 25  0  0  0]\n",
            " [ 1  0 24  0  0]\n",
            " [ 5  0  0 16  4]\n",
            " [ 0  0  0  6 19]]\n"
          ]
        }
      ],
      "source": [
        "# Clasificación con datos limpios y normalizados\n",
        "\n",
        "ypred = Clasificador_KNN(Xtrain_norm, ytrain, Xtest_norm, n_neighbors)  # Cálculo de la predicción con KNN de 3 vecinos\n",
        "acc, C = Precision_Matriz_Confusion(ytest, ypred)  # Calcular precisión y matriz de confusión\n"
      ]
    },
    {
      "cell_type": "code",
      "execution_count": null,
      "metadata": {
        "id": "LHKnTGdpI7ij"
      },
      "outputs": [],
      "source": [
        "# Función SP100 para clasificación binaria\n",
        "def sp100(caracteristicas, ypred):\n",
        "    norm = (ypred.flatten() - ypred.min()).astype(bool)\n",
        "    max_clase = norm.max()\n",
        "\n",
        "    if max_clase > 1:\n",
        "        raise Exception('sp100 solo funciona para dos clases')\n",
        "\n",
        "    c1_caracteristicas = caracteristicas[norm == 1, :]\n",
        "\n",
        "    min_carac = c1_caracteristicas.min(0)\n",
        "    max_carac = c1_caracteristicas.max(0)\n",
        "\n",
        "    z1 = (caracteristicas >= min_carac) & (caracteristicas <= max_carac)\n",
        "    dr = z1.all(1)\n",
        "\n",
        "    TP = (dr * norm).sum()\n",
        "    FP = dr.sum() - TP\n",
        "\n",
        "    TN = (~dr * ~norm).sum()\n",
        "    return TN / (FP + TN)\n",
        "\n",
        "# Función para calcular la puntuación de las características\n",
        "def puntuacion(caracteristicas, ypred, *, metodo='fisher', param=None):\n",
        "    if param is None:\n",
        "        dn = ypred.max() - ypred.min() + 1  # Número de clases\n",
        "        p = np.ones((dn, 1)) / dn\n",
        "    else:\n",
        "        p = param\n",
        "\n",
        "    if metodo == 'mi':  # Información mutua\n",
        "        raise NotImplementedError()\n",
        "\n",
        "    # Relevancia máxima\n",
        "    elif metodo == 'mr':\n",
        "        raise NotImplementedError()\n",
        "\n",
        "    # Redundancia mínima y relevancia máxima\n",
        "    elif metodo == 'mrmr':\n",
        "        raise NotImplementedError()\n",
        "\n",
        "    # Fisher\n",
        "    elif metodo == 'fisher':\n",
        "        return jfisher(caracteristicas, ypred, p)\n",
        "\n",
        "    elif metodo == 'sp100':\n",
        "        return sp100(caracteristicas, ypred)\n",
        "\n",
        "    else:\n",
        "        return 0\n",
        "\n",
        "# Selección secuencial de características (SFS)\n",
        "def sfs(caracteristicas, ypred, n_caracteristicas, *, forzar=False, metodo='fisher', opciones=None, mostrar=False):\n",
        "\n",
        "    N, M = caracteristicas.shape\n",
        "    caracteristicas_restantes = set(np.arange(M))\n",
        "    seleccionadas = list()\n",
        "    caracteristicas_actuales = np.zeros((N, 0))\n",
        "    if opciones is None:\n",
        "        opciones = dict()\n",
        "\n",
        "    def _calc_puntuacion(i):\n",
        "        caracs = np.hstack([caracteristicas_actuales, caracteristicas[:, i].reshape(-1, 1)])\n",
        "        return puntuacion(caracs, ypred, metodo=metodo, **opciones)\n",
        "\n",
        "    if mostrar:\n",
        "        _rango = tqdm.trange(\n",
        "            n_caracteristicas, desc='Seleccionando características', unit_scale=True, unit=' características')\n",
        "    else:\n",
        "        _rango = range(n_caracteristicas)\n",
        "\n",
        "    for _ in _rango:\n",
        "        nueva_seleccion = max(caracteristicas_restantes, key=_calc_puntuacion)\n",
        "        seleccionadas.append(nueva_seleccion)\n",
        "        caracteristicas_restantes.remove(nueva_seleccion)\n",
        "        caracteristicas_actuales = np.hstack(\n",
        "            [caracteristicas_actuales, caracteristicas[:, nueva_seleccion].reshape(-1, 1)])\n",
        "\n",
        "    return np.array(seleccionadas)"
      ]
    },
    {
      "cell_type": "code",
      "execution_count": null,
      "metadata": {
        "colab": {
          "base_uri": "https://localhost:8080/"
        },
        "id": "V5ugIZFoId4R",
        "outputId": "8501262a-b0eb-41f1-b8f6-8daf03012461"
      },
      "outputs": [
        {
          "name": "stdout",
          "output_type": "stream",
          "text": [
            "[13 12  4 17 14 11 38 24  2  3 10  8 20 34 28]\n"
          ]
        }
      ],
      "source": [
        "# SFS implementation of Balu3\n",
        "ss = sfs(Xtrain_norm,ytrain,p)\n",
        "print(ss)"
      ]
    },
    {
      "cell_type": "code",
      "execution_count": null,
      "metadata": {
        "id": "vpI4ZnQ4Ii94"
      },
      "outputs": [],
      "source": [
        "Xtrain_sel = Xtrain_norm[:,ss]\n",
        "Xtest_sel  = Xtest_norm[:,ss]"
      ]
    },
    {
      "cell_type": "code",
      "execution_count": null,
      "metadata": {
        "colab": {
          "base_uri": "https://localhost:8080/"
        },
        "id": "lfgOmrhTIldp",
        "outputId": "e9b4115e-464a-4920-f9a6-f16faa8ed2ba"
      },
      "outputs": [
        {
          "name": "stdout",
          "output_type": "stream",
          "text": [
            "Entrenando con 375 muestras y probando con 125 muestras\n",
            "Precisión en el conjunto de prueba = 94.39999999999999%\n",
            "Matriz de confusión:\n",
            "[[24  0  1  0  0]\n",
            " [ 0 25  0  0  0]\n",
            " [ 0  0 25  0  0]\n",
            " [ 0  0  0 25  0]\n",
            " [ 0  0  0  6 19]]\n"
          ]
        }
      ],
      "source": [
        "ypred = Clasificador_KNN(Xtrain_sel,ytrain,Xtest_sel,n_neighbors)  # calculo de la prediccion con un KNN de 3 vecinos\n",
        "acc,C = Precision_Matriz_Confusion(ytest,ypred)"
      ]
    },
    {
      "cell_type": "code",
      "source": [],
      "metadata": {
        "id": "eBZqqQyw7-Ar"
      },
      "execution_count": null,
      "outputs": []
    },
    {
      "cell_type": "markdown",
      "source": [],
      "metadata": {
        "id": "U4p0MJJO7_JX"
      }
    },
    {
      "cell_type": "markdown",
      "source": [],
      "metadata": {
        "id": "3nRw3wjT79Uv"
      }
    },
    {
      "cell_type": "markdown",
      "metadata": {
        "id": "49y6abU4JbYo"
      },
      "source": []
    },
    {
      "cell_type": "code",
      "execution_count": null,
      "metadata": {
        "id": "8D4ZwacLqQMy"
      },
      "outputs": [],
      "source": [
        "import pandas as pd\n",
        "import numpy as np\n",
        "from tqdm import tqdm\n",
        "\n",
        "K = 5   # número de clases\n",
        "N = 100 # número de imágenes por clase\n",
        "\n",
        "# Inicializar un DataFrame vacío con las columnas para almacenar todas las características\n",
        "columns = [f'bg_{i}' for i in range(16)] + \\\n",
        "          [f'fd_{i}' for i in range(16)] + \\\n",
        "          [f'hu_{i}' for i in range(7)] + \\\n",
        "          [f'fl_{i}' for i in range(4)] + \\\n",
        "          [f'gu_{i}' for i in range(3)] + \\\n",
        "          ['class']  # Incluimos la columna para la etiqueta de clase\n",
        "\n",
        "# Crear un DataFrame vacío con las columnas definidas\n",
        "df = pd.DataFrame(columns=columns)\n",
        "\n",
        "t = 0  # Inicializa un contador para llevar el índice total de imágenes procesadas\n",
        "\n",
        "for j in range(K):  # Bucle sobre el número de clases\n",
        "    for i in tqdm(range(N)):  # Bucle sobre las imágenes dentro de la clase, con barra de progreso\n",
        "        # Lectura de la imagen\n",
        "        img = imageload('LetrasABXYZ/char_', j+1, 2, i+1, 3, echo='off')\n",
        "\n",
        "        # Dilatación de la imagen utilizando un disco de radio 3\n",
        "        img3 = dilation(img, disk(3))  # Unir la imagen usando dilatación con un disco de radio 3\n",
        "\n",
        "        # Binarización de la imagen: convertir la imagen en valores binarios (0 y 1)\n",
        "        R = img3 > 0.5\n",
        "\n",
        "        # Rellenar los agujeros en las regiones binarias y convertirlo a enteros (0 y 1)\n",
        "        R = binary_fill_holes(R).astype(int)\n",
        "\n",
        "        # Extracción de características:\n",
        "        fd = fourierdes(R)  # Extraer descriptores de Fourier\n",
        "        hu = hugeo(R)       # Extraer momentos de Hu\n",
        "        fl = flusser(R)     # Extraer momentos de Flusser\n",
        "        gu = gupta(R)       # Extraer momentos de Gupta\n",
        "        bg = basicgeo(R)    # Extraer características geométricas básicas\n",
        "\n",
        "        # Crear un diccionario con todas las características extraídas y la clase\n",
        "        features = {\n",
        "            **{f'bg_{k}': bg[k] for k in range(16)},\n",
        "            **{f'fd_{k}': fd[k] for k in range(16)},\n",
        "            **{f'hu_{k}': hu[k] for k in range(7)},\n",
        "            **{f'fl_{k}': fl[k] for k in range(4)},\n",
        "            **{f'gu_{k}': gu[k] for k in range(3)},\n",
        "            'class': j\n",
        "        }\n",
        "\n",
        "        # Añadir las características como una nueva fila al DataFrame\n",
        "        df = df.append(features, ignore_index=True)\n",
        "\n",
        "        # Incrementar el contador de imágenes procesadas\n",
        "        t += 1\n",
        "\n",
        "# Mostrar el DataFrame resultante\n",
        "import ace_tools as tools; tools.display_dataframe_to_user(name=\"Caracteristicas de imágenes\", dataframe=df)\n"
      ]
    }
  ],
  "metadata": {
    "colab": {
      "provenance": [],
      "include_colab_link": true
    },
    "kernelspec": {
      "display_name": "Python 3",
      "name": "python3"
    },
    "language_info": {
      "name": "python"
    },
    "widgets": {
      "application/vnd.jupyter.widget-state+json": {
        "967470a9bddd41428eab8afa7f95d400": {
          "model_module": "@jupyter-widgets/controls",
          "model_name": "HBoxModel",
          "model_module_version": "1.5.0",
          "state": {
            "_dom_classes": [],
            "_model_module": "@jupyter-widgets/controls",
            "_model_module_version": "1.5.0",
            "_model_name": "HBoxModel",
            "_view_count": null,
            "_view_module": "@jupyter-widgets/controls",
            "_view_module_version": "1.5.0",
            "_view_name": "HBoxView",
            "box_style": "",
            "children": [
              "IPY_MODEL_de758b6c4fbb4ca0a460b1e95e0645da",
              "IPY_MODEL_4ab7c69f811941c08cba5e7343552c03",
              "IPY_MODEL_e4fbdce0633e4c9c8e0aa90c43ef13b2"
            ],
            "layout": "IPY_MODEL_9f3807d9de5d42b79805971fa67d830b"
          }
        },
        "de758b6c4fbb4ca0a460b1e95e0645da": {
          "model_module": "@jupyter-widgets/controls",
          "model_name": "HTMLModel",
          "model_module_version": "1.5.0",
          "state": {
            "_dom_classes": [],
            "_model_module": "@jupyter-widgets/controls",
            "_model_module_version": "1.5.0",
            "_model_name": "HTMLModel",
            "_view_count": null,
            "_view_module": "@jupyter-widgets/controls",
            "_view_module_version": "1.5.0",
            "_view_name": "HTMLView",
            "description": "",
            "description_tooltip": null,
            "layout": "IPY_MODEL_70f6e19e00954324875d4b3c78086c55",
            "placeholder": "​",
            "style": "IPY_MODEL_14022e5c229f443fa7de10cc3ae6aeba",
            "value": "  0%"
          }
        },
        "4ab7c69f811941c08cba5e7343552c03": {
          "model_module": "@jupyter-widgets/controls",
          "model_name": "FloatProgressModel",
          "model_module_version": "1.5.0",
          "state": {
            "_dom_classes": [],
            "_model_module": "@jupyter-widgets/controls",
            "_model_module_version": "1.5.0",
            "_model_name": "FloatProgressModel",
            "_view_count": null,
            "_view_module": "@jupyter-widgets/controls",
            "_view_module_version": "1.5.0",
            "_view_name": "ProgressView",
            "bar_style": "danger",
            "description": "",
            "description_tooltip": null,
            "layout": "IPY_MODEL_543689e37c34421a91fe854a24d9ab14",
            "max": 100,
            "min": 0,
            "orientation": "horizontal",
            "style": "IPY_MODEL_37ab0ad3508e4a3a8f308b3db6f5549b",
            "value": 0
          }
        },
        "e4fbdce0633e4c9c8e0aa90c43ef13b2": {
          "model_module": "@jupyter-widgets/controls",
          "model_name": "HTMLModel",
          "model_module_version": "1.5.0",
          "state": {
            "_dom_classes": [],
            "_model_module": "@jupyter-widgets/controls",
            "_model_module_version": "1.5.0",
            "_model_name": "HTMLModel",
            "_view_count": null,
            "_view_module": "@jupyter-widgets/controls",
            "_view_module_version": "1.5.0",
            "_view_name": "HTMLView",
            "description": "",
            "description_tooltip": null,
            "layout": "IPY_MODEL_4cac5825620c4af8b64ff8961b911fa5",
            "placeholder": "​",
            "style": "IPY_MODEL_4e05f8e2dc644e4783718d3bdd4f6b3c",
            "value": " 0/100 [00:00&lt;?, ?it/s]"
          }
        },
        "9f3807d9de5d42b79805971fa67d830b": {
          "model_module": "@jupyter-widgets/base",
          "model_name": "LayoutModel",
          "model_module_version": "1.2.0",
          "state": {
            "_model_module": "@jupyter-widgets/base",
            "_model_module_version": "1.2.0",
            "_model_name": "LayoutModel",
            "_view_count": null,
            "_view_module": "@jupyter-widgets/base",
            "_view_module_version": "1.2.0",
            "_view_name": "LayoutView",
            "align_content": null,
            "align_items": null,
            "align_self": null,
            "border": null,
            "bottom": null,
            "display": null,
            "flex": null,
            "flex_flow": null,
            "grid_area": null,
            "grid_auto_columns": null,
            "grid_auto_flow": null,
            "grid_auto_rows": null,
            "grid_column": null,
            "grid_gap": null,
            "grid_row": null,
            "grid_template_areas": null,
            "grid_template_columns": null,
            "grid_template_rows": null,
            "height": null,
            "justify_content": null,
            "justify_items": null,
            "left": null,
            "margin": null,
            "max_height": null,
            "max_width": null,
            "min_height": null,
            "min_width": null,
            "object_fit": null,
            "object_position": null,
            "order": null,
            "overflow": null,
            "overflow_x": null,
            "overflow_y": null,
            "padding": null,
            "right": null,
            "top": null,
            "visibility": null,
            "width": null
          }
        },
        "70f6e19e00954324875d4b3c78086c55": {
          "model_module": "@jupyter-widgets/base",
          "model_name": "LayoutModel",
          "model_module_version": "1.2.0",
          "state": {
            "_model_module": "@jupyter-widgets/base",
            "_model_module_version": "1.2.0",
            "_model_name": "LayoutModel",
            "_view_count": null,
            "_view_module": "@jupyter-widgets/base",
            "_view_module_version": "1.2.0",
            "_view_name": "LayoutView",
            "align_content": null,
            "align_items": null,
            "align_self": null,
            "border": null,
            "bottom": null,
            "display": null,
            "flex": null,
            "flex_flow": null,
            "grid_area": null,
            "grid_auto_columns": null,
            "grid_auto_flow": null,
            "grid_auto_rows": null,
            "grid_column": null,
            "grid_gap": null,
            "grid_row": null,
            "grid_template_areas": null,
            "grid_template_columns": null,
            "grid_template_rows": null,
            "height": null,
            "justify_content": null,
            "justify_items": null,
            "left": null,
            "margin": null,
            "max_height": null,
            "max_width": null,
            "min_height": null,
            "min_width": null,
            "object_fit": null,
            "object_position": null,
            "order": null,
            "overflow": null,
            "overflow_x": null,
            "overflow_y": null,
            "padding": null,
            "right": null,
            "top": null,
            "visibility": null,
            "width": null
          }
        },
        "14022e5c229f443fa7de10cc3ae6aeba": {
          "model_module": "@jupyter-widgets/controls",
          "model_name": "DescriptionStyleModel",
          "model_module_version": "1.5.0",
          "state": {
            "_model_module": "@jupyter-widgets/controls",
            "_model_module_version": "1.5.0",
            "_model_name": "DescriptionStyleModel",
            "_view_count": null,
            "_view_module": "@jupyter-widgets/base",
            "_view_module_version": "1.2.0",
            "_view_name": "StyleView",
            "description_width": ""
          }
        },
        "543689e37c34421a91fe854a24d9ab14": {
          "model_module": "@jupyter-widgets/base",
          "model_name": "LayoutModel",
          "model_module_version": "1.2.0",
          "state": {
            "_model_module": "@jupyter-widgets/base",
            "_model_module_version": "1.2.0",
            "_model_name": "LayoutModel",
            "_view_count": null,
            "_view_module": "@jupyter-widgets/base",
            "_view_module_version": "1.2.0",
            "_view_name": "LayoutView",
            "align_content": null,
            "align_items": null,
            "align_self": null,
            "border": null,
            "bottom": null,
            "display": null,
            "flex": null,
            "flex_flow": null,
            "grid_area": null,
            "grid_auto_columns": null,
            "grid_auto_flow": null,
            "grid_auto_rows": null,
            "grid_column": null,
            "grid_gap": null,
            "grid_row": null,
            "grid_template_areas": null,
            "grid_template_columns": null,
            "grid_template_rows": null,
            "height": null,
            "justify_content": null,
            "justify_items": null,
            "left": null,
            "margin": null,
            "max_height": null,
            "max_width": null,
            "min_height": null,
            "min_width": null,
            "object_fit": null,
            "object_position": null,
            "order": null,
            "overflow": null,
            "overflow_x": null,
            "overflow_y": null,
            "padding": null,
            "right": null,
            "top": null,
            "visibility": null,
            "width": null
          }
        },
        "37ab0ad3508e4a3a8f308b3db6f5549b": {
          "model_module": "@jupyter-widgets/controls",
          "model_name": "ProgressStyleModel",
          "model_module_version": "1.5.0",
          "state": {
            "_model_module": "@jupyter-widgets/controls",
            "_model_module_version": "1.5.0",
            "_model_name": "ProgressStyleModel",
            "_view_count": null,
            "_view_module": "@jupyter-widgets/base",
            "_view_module_version": "1.2.0",
            "_view_name": "StyleView",
            "bar_color": null,
            "description_width": ""
          }
        },
        "4cac5825620c4af8b64ff8961b911fa5": {
          "model_module": "@jupyter-widgets/base",
          "model_name": "LayoutModel",
          "model_module_version": "1.2.0",
          "state": {
            "_model_module": "@jupyter-widgets/base",
            "_model_module_version": "1.2.0",
            "_model_name": "LayoutModel",
            "_view_count": null,
            "_view_module": "@jupyter-widgets/base",
            "_view_module_version": "1.2.0",
            "_view_name": "LayoutView",
            "align_content": null,
            "align_items": null,
            "align_self": null,
            "border": null,
            "bottom": null,
            "display": null,
            "flex": null,
            "flex_flow": null,
            "grid_area": null,
            "grid_auto_columns": null,
            "grid_auto_flow": null,
            "grid_auto_rows": null,
            "grid_column": null,
            "grid_gap": null,
            "grid_row": null,
            "grid_template_areas": null,
            "grid_template_columns": null,
            "grid_template_rows": null,
            "height": null,
            "justify_content": null,
            "justify_items": null,
            "left": null,
            "margin": null,
            "max_height": null,
            "max_width": null,
            "min_height": null,
            "min_width": null,
            "object_fit": null,
            "object_position": null,
            "order": null,
            "overflow": null,
            "overflow_x": null,
            "overflow_y": null,
            "padding": null,
            "right": null,
            "top": null,
            "visibility": null,
            "width": null
          }
        },
        "4e05f8e2dc644e4783718d3bdd4f6b3c": {
          "model_module": "@jupyter-widgets/controls",
          "model_name": "DescriptionStyleModel",
          "model_module_version": "1.5.0",
          "state": {
            "_model_module": "@jupyter-widgets/controls",
            "_model_module_version": "1.5.0",
            "_model_name": "DescriptionStyleModel",
            "_view_count": null,
            "_view_module": "@jupyter-widgets/base",
            "_view_module_version": "1.2.0",
            "_view_name": "StyleView",
            "description_width": ""
          }
        }
      }
    }
  },
  "nbformat": 4,
  "nbformat_minor": 0
}